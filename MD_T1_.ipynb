{
  "nbformat": 4,
  "nbformat_minor": 0,
  "metadata": {
    "colab": {
      "provenance": [],
      "collapsed_sections": [
        "ftm6xNaxI-WX",
        "cgZIcqPjI028",
        "xqHKrvPSIrKv",
        "ifyEXnERIlq-",
        "IxVXFmYoHTpw",
        "B4SJGLF9VVoZ",
        "peLOa8QYX2Lu",
        "XKzXrgIKJIeN",
        "XcYAonNy7IWT",
        "dn2pWcXQ9BoQ",
        "cfj0PlH88pB3",
        "-JVbs4XwJYff",
        "wjUHh-zB97jA",
        "cgiUoCI6cqMk",
        "3Td2v6ym6HZ6",
        "kNz5Tjbh8vZI",
        "y0nNb5AxfMEC",
        "TPVzyB8IgwYi",
        "nsS7SeGIY8XT",
        "yq0lUSfP6N-D"
      ]
    },
    "kernelspec": {
      "name": "python3",
      "display_name": "Python 3"
    },
    "language_info": {
      "name": "python"
    }
  },
  "cells": [
    {
      "cell_type": "markdown",
      "source": [
        "#BIBLIOTECA E ARQUIVO"
      ],
      "metadata": {
        "id": "ftm6xNaxI-WX"
      }
    },
    {
      "cell_type": "code",
      "source": [
        "import pandas as pd\n",
        "import numpy as np\n",
        "import matplotlib.pyplot as plt\n",
        "import random\n",
        "\n",
        "supermarket = pd.read_csv(\"/content/supermarket.csv\")"
      ],
      "metadata": {
        "id": "U3GI4xBHEZnd"
      },
      "execution_count": null,
      "outputs": []
    },
    {
      "cell_type": "markdown",
      "source": [
        "#LINHAS E COLUNAS"
      ],
      "metadata": {
        "id": "cgZIcqPjI028"
      }
    },
    {
      "cell_type": "code",
      "source": [
        "qnttotal = len(supermarket)\n",
        "colunas = supermarket.columns\n",
        "total_colunas = len(colunas)"
      ],
      "metadata": {
        "id": "mWcBn2RpNoxv"
      },
      "execution_count": null,
      "outputs": []
    },
    {
      "cell_type": "markdown",
      "source": [
        "#LIMEARES"
      ],
      "metadata": {
        "id": "xqHKrvPSIrKv"
      }
    },
    {
      "cell_type": "code",
      "source": [
        "suporte1_min = 0.3\n",
        "suporte2_min = 0.35\n",
        "suporte3_min = 0.3\n",
        "suporte4_min = 0.25\n",
        "conf2_min = 0.6\n",
        "conf3_min = 0.4\n",
        "conf4_min = 0.2\n",
        "lift2_min = 1.1\n",
        "lift3_min = 1.1\n",
        "lift4_min = 1.1\n",
        "conv2_min = 1.2\n",
        "conv3_min = 1.2\n",
        "conv4_min = 1.2"
      ],
      "metadata": {
        "id": "ikb9LL5MJipq"
      },
      "execution_count": null,
      "outputs": []
    },
    {
      "cell_type": "markdown",
      "source": [
        "#SUPORTES"
      ],
      "metadata": {
        "id": "M1p1pmrN8aXE"
      }
    },
    {
      "cell_type": "markdown",
      "source": [
        "##SUPORTE 1 COLUNA"
      ],
      "metadata": {
        "id": "ifyEXnERIlq-"
      }
    },
    {
      "cell_type": "code",
      "source": [
        "suporte1 = {}\n",
        "\n",
        "for coluna in colunas:\n",
        "  contagem = supermarket[coluna].value_counts()\n",
        "  valor_coluna = contagem.get(\"t\", 0)\n",
        "  suporte_coluna = valor_coluna / qnttotal\n",
        "  if suporte_coluna > suporte1_min:\n",
        "    suporte1[coluna] = suporte_coluna\n",
        "\n",
        "print(\"Suportes: \", suporte1)"
      ],
      "metadata": {
        "colab": {
          "base_uri": "https://localhost:8080/"
        },
        "id": "vVIaBM2LHov3",
        "outputId": "8618e773-45ec-416d-b0d8-148f4cf38341"
      },
      "execution_count": null,
      "outputs": [
        {
          "output_type": "stream",
          "name": "stdout",
          "text": [
            "Suportes:  {\"'bread and cake'\": 0.719688783228874, \"'baking needs'\": 0.6040631078452561, 'juice-sat-cord-ms': 0.532310352280095, 'biscuits': 0.5629997838772423, \"'canned vegetables'\": 0.3408255889345148, \"'breakfast food'\": 0.40242057488653554, 'sauces-gravy-pkle': 0.4756861897557813, 'confectionary': 0.3652474605575967, \"'frozen foods'\": 0.5872055327425978, \"'pet foods'\": 0.4035011886751675, \"'laundry needs'\": 0.33779987032634534, \"'party snack foods'\": 0.5035660255024854, \"'tissues-paper prd'\": 0.4856278366111952, \"'soft drinks'\": 0.40803976658742164, 'cheese': 0.40609466176788417, 'milk-cream': 0.635184784957856, 'margarine': 0.4944888696779771, \"'dairy foods'\": 0.36070888264534257, 'beef': 0.37583747568618975, 'fruit': 0.640155608385563, 'vegetables': 0.6399394856278366, 'stationary': 0.3148908580073482, 'department137': 0.40069159282472444}\n"
          ]
        }
      ]
    },
    {
      "cell_type": "code",
      "source": [
        "lista_suporte1 = list(suporte1.keys())"
      ],
      "metadata": {
        "id": "gLA1VzN_OnER"
      },
      "execution_count": null,
      "outputs": []
    },
    {
      "cell_type": "markdown",
      "source": [
        "##SUPORTE 2 COLUNAS"
      ],
      "metadata": {
        "id": "IxVXFmYoHTpw"
      }
    },
    {
      "cell_type": "code",
      "source": [
        "suporte2 = {}\n",
        "\n",
        "for coluna1 in lista_suporte1:\n",
        "  for coluna2 in lista_suporte1:\n",
        "    if coluna1 != coluna2:\n",
        "      contagem = supermarket.value_counts([coluna1, coluna2])\n",
        "      valores_colunas = contagem.get((\"t\", \"t\"), 0)\n",
        "\n",
        "      if valores_colunas > 0:\n",
        "        suporte_colunas = valores_colunas / qnttotal\n",
        "\n",
        "        if suporte_colunas > suporte2_min:\n",
        "          suporte2[(coluna1), (coluna2)] = suporte_colunas\n",
        "\n",
        "print(\"Suportes: \", suporte2)"
      ],
      "metadata": {
        "colab": {
          "base_uri": "https://localhost:8080/"
        },
        "id": "m1RUr6ezGjs3",
        "outputId": "2d14d6de-6599-4256-a1cb-57997869f9e6"
      },
      "execution_count": null,
      "outputs": [
        {
          "output_type": "stream",
          "name": "stdout",
          "text": [
            "Suportes:  {(\"'bread and cake'\", \"'baking needs'\"): 0.4735249621785174, (\"'bread and cake'\", 'juice-sat-cord-ms'): 0.4039334341906203, (\"'bread and cake'\", 'biscuits'): 0.4501837043440674, (\"'bread and cake'\", 'sauces-gravy-pkle'): 0.3695699157121245, (\"'bread and cake'\", \"'frozen foods'\"): 0.4601253511994813, (\"'bread and cake'\", \"'party snack foods'\"): 0.39074994596931056, (\"'bread and cake'\", \"'tissues-paper prd'\"): 0.38383401772206616, (\"'bread and cake'\", 'milk-cream'): 0.5050788848065701, (\"'bread and cake'\", 'margarine'): 0.3957207693970175, (\"'bread and cake'\", 'fruit'): 0.5024854117138534, (\"'bread and cake'\", 'vegetables'): 0.49665009725524095, (\"'baking needs'\", \"'bread and cake'\"): 0.4735249621785174, (\"'baking needs'\", 'biscuits'): 0.3812405446293495, (\"'baking needs'\", \"'frozen foods'\"): 0.3965852604279231, (\"'baking needs'\", 'milk-cream'): 0.41214609898422305, (\"'baking needs'\", 'margarine'): 0.3555219364599092, (\"'baking needs'\", 'fruit'): 0.4106332396801383, (\"'baking needs'\", 'vegetables'): 0.42122325480873135, ('juice-sat-cord-ms', \"'bread and cake'\"): 0.4039334341906203, ('juice-sat-cord-ms', 'milk-cream'): 0.3537929543980981, ('juice-sat-cord-ms', 'fruit'): 0.3613572509185217, ('juice-sat-cord-ms', 'vegetables'): 0.3583315323103523, ('biscuits', \"'bread and cake'\"): 0.4501837043440674, ('biscuits', \"'baking needs'\"): 0.3812405446293495, ('biscuits', \"'frozen foods'\"): 0.39118219148476335, ('biscuits', 'milk-cream'): 0.38188891290252863, ('biscuits', 'fruit'): 0.3970175059433758, ('biscuits', 'vegetables'): 0.3812405446293495, ('sauces-gravy-pkle', \"'bread and cake'\"): 0.3695699157121245, (\"'frozen foods'\", \"'bread and cake'\"): 0.4601253511994813, (\"'frozen foods'\", \"'baking needs'\"): 0.3965852604279231, (\"'frozen foods'\", 'biscuits'): 0.39118219148476335, (\"'frozen foods'\", 'milk-cream'): 0.39464015560838556, (\"'frozen foods'\", 'fruit'): 0.4022044521288092, (\"'frozen foods'\", 'vegetables'): 0.4067430300410633, (\"'party snack foods'\", \"'bread and cake'\"): 0.39074994596931056, (\"'tissues-paper prd'\", \"'bread and cake'\"): 0.38383401772206616, ('milk-cream', \"'bread and cake'\"): 0.5050788848065701, ('milk-cream', \"'baking needs'\"): 0.41214609898422305, ('milk-cream', 'juice-sat-cord-ms'): 0.3537929543980981, ('milk-cream', 'biscuits'): 0.38188891290252863, ('milk-cream', \"'frozen foods'\"): 0.39464015560838556, ('milk-cream', 'fruit'): 0.44045818024637995, ('milk-cream', 'vegetables'): 0.4376485843959369, ('margarine', \"'bread and cake'\"): 0.3957207693970175, ('margarine', \"'baking needs'\"): 0.3555219364599092, ('fruit', \"'bread and cake'\"): 0.5024854117138534, ('fruit', \"'baking needs'\"): 0.4106332396801383, ('fruit', 'juice-sat-cord-ms'): 0.3613572509185217, ('fruit', 'biscuits'): 0.3970175059433758, ('fruit', \"'frozen foods'\"): 0.4022044521288092, ('fruit', 'milk-cream'): 0.44045818024637995, ('fruit', 'vegetables'): 0.4769829263021396, ('vegetables', \"'bread and cake'\"): 0.49665009725524095, ('vegetables', \"'baking needs'\"): 0.42122325480873135, ('vegetables', 'juice-sat-cord-ms'): 0.3583315323103523, ('vegetables', 'biscuits'): 0.3812405446293495, ('vegetables', \"'frozen foods'\"): 0.4067430300410633, ('vegetables', 'milk-cream'): 0.4376485843959369, ('vegetables', 'fruit'): 0.4769829263021396}\n"
          ]
        }
      ]
    },
    {
      "cell_type": "code",
      "source": [
        "lista_suporte2 = list(suporte2.keys())"
      ],
      "metadata": {
        "id": "BqiCHBTFRKn4"
      },
      "execution_count": null,
      "outputs": []
    },
    {
      "cell_type": "markdown",
      "source": [
        "##SUPORTE 3 COLUNAS"
      ],
      "metadata": {
        "id": "B4SJGLF9VVoZ"
      }
    },
    {
      "cell_type": "code",
      "source": [
        "suporte3 = {}\n",
        "\n",
        "for coluna1 in lista_suporte1:\n",
        "  for coluna2 in lista_suporte1:\n",
        "    for coluna3 in lista_suporte1:\n",
        "      if (coluna1, coluna2) in lista_suporte2:\n",
        "        if(coluna1!=coluna2)and(coluna1!=coluna3)and(coluna2!=coluna3):\n",
        "          contagem = supermarket.value_counts([coluna1, coluna2, coluna3])\n",
        "          valores_colunas = contagem.get((\"t\", \"t\", \"t\"), 0)\n",
        "\n",
        "          if valores_colunas > 0:\n",
        "            suporte_colunas = valores_colunas / qnttotal\n",
        "\n",
        "            if suporte_colunas > suporte3_min:\n",
        "              suporte3[(coluna1), (coluna2), (coluna3)] = suporte_colunas\n",
        "\n",
        "print(\"Suportes: \", suporte3)"
      ],
      "metadata": {
        "colab": {
          "base_uri": "https://localhost:8080/"
        },
        "id": "xbt-lRYtVU8q",
        "outputId": "20efb227-eaed-4d27-c83e-c15e8cc8d8c8"
      },
      "execution_count": null,
      "outputs": [
        {
          "output_type": "stream",
          "name": "stdout",
          "text": [
            "Suportes:  {(\"'bread and cake'\", \"'baking needs'\", 'biscuits'): 0.3146747352496218, (\"'bread and cake'\", \"'baking needs'\", \"'frozen foods'\"): 0.32094229522368706, (\"'bread and cake'\", \"'baking needs'\", 'milk-cream'): 0.34147395720769397, (\"'bread and cake'\", \"'baking needs'\", 'fruit'): 0.33801599308407176, (\"'bread and cake'\", \"'baking needs'\", 'vegetables'): 0.3427706937540523, (\"'bread and cake'\", 'biscuits', \"'baking needs'\"): 0.3146747352496218, (\"'bread and cake'\", 'biscuits', \"'frozen foods'\"): 0.3263453641668468, (\"'bread and cake'\", 'biscuits', 'milk-cream'): 0.32094229522368706, (\"'bread and cake'\", 'biscuits', 'fruit'): 0.3330451696563648, (\"'bread and cake'\", 'biscuits', 'vegetables'): 0.32137454073913985, (\"'bread and cake'\", \"'frozen foods'\", \"'baking needs'\"): 0.32094229522368706, (\"'bread and cake'\", \"'frozen foods'\", 'biscuits'): 0.3263453641668468, (\"'bread and cake'\", \"'frozen foods'\", 'milk-cream'): 0.3276421007132051, (\"'bread and cake'\", \"'frozen foods'\", 'fruit'): 0.33455802896044956, (\"'bread and cake'\", \"'frozen foods'\", 'vegetables'): 0.33455802896044956, (\"'bread and cake'\", 'milk-cream', \"'baking needs'\"): 0.34147395720769397, (\"'bread and cake'\", 'milk-cream', 'biscuits'): 0.32094229522368706, (\"'bread and cake'\", 'milk-cream', \"'frozen foods'\"): 0.3276421007132051, (\"'bread and cake'\", 'milk-cream', 'fruit'): 0.3639507240112384, (\"'bread and cake'\", 'milk-cream', 'vegetables'): 0.3583315323103523, (\"'bread and cake'\", 'fruit', \"'baking needs'\"): 0.33801599308407176, (\"'bread and cake'\", 'fruit', 'biscuits'): 0.3330451696563648, (\"'bread and cake'\", 'fruit', \"'frozen foods'\"): 0.33455802896044956, (\"'bread and cake'\", 'fruit', 'milk-cream'): 0.3639507240112384, (\"'bread and cake'\", 'fruit', 'vegetables'): 0.38707585908796194, (\"'bread and cake'\", 'vegetables', \"'baking needs'\"): 0.3427706937540523, (\"'bread and cake'\", 'vegetables', 'biscuits'): 0.32137454073913985, (\"'bread and cake'\", 'vegetables', \"'frozen foods'\"): 0.33455802896044956, (\"'bread and cake'\", 'vegetables', 'milk-cream'): 0.3583315323103523, (\"'bread and cake'\", 'vegetables', 'fruit'): 0.38707585908796194, (\"'baking needs'\", \"'bread and cake'\", 'biscuits'): 0.3146747352496218, (\"'baking needs'\", \"'bread and cake'\", \"'frozen foods'\"): 0.32094229522368706, (\"'baking needs'\", \"'bread and cake'\", 'milk-cream'): 0.34147395720769397, (\"'baking needs'\", \"'bread and cake'\", 'fruit'): 0.33801599308407176, (\"'baking needs'\", \"'bread and cake'\", 'vegetables'): 0.3427706937540523, (\"'baking needs'\", 'biscuits', \"'bread and cake'\"): 0.3146747352496218, (\"'baking needs'\", \"'frozen foods'\", \"'bread and cake'\"): 0.32094229522368706, (\"'baking needs'\", 'milk-cream', \"'bread and cake'\"): 0.34147395720769397, (\"'baking needs'\", 'milk-cream', 'vegetables'): 0.30084287875513294, (\"'baking needs'\", 'fruit', \"'bread and cake'\"): 0.33801599308407176, (\"'baking needs'\", 'fruit', 'vegetables'): 0.32180678625459264, (\"'baking needs'\", 'vegetables', \"'bread and cake'\"): 0.3427706937540523, (\"'baking needs'\", 'vegetables', 'milk-cream'): 0.30084287875513294, (\"'baking needs'\", 'vegetables', 'fruit'): 0.32180678625459264, ('biscuits', \"'bread and cake'\", \"'baking needs'\"): 0.3146747352496218, ('biscuits', \"'bread and cake'\", \"'frozen foods'\"): 0.3263453641668468, ('biscuits', \"'bread and cake'\", 'milk-cream'): 0.32094229522368706, ('biscuits', \"'bread and cake'\", 'fruit'): 0.3330451696563648, ('biscuits', \"'bread and cake'\", 'vegetables'): 0.32137454073913985, ('biscuits', \"'baking needs'\", \"'bread and cake'\"): 0.3146747352496218, ('biscuits', \"'frozen foods'\", \"'bread and cake'\"): 0.3263453641668468, ('biscuits', 'milk-cream', \"'bread and cake'\"): 0.32094229522368706, ('biscuits', 'fruit', \"'bread and cake'\"): 0.3330451696563648, ('biscuits', 'fruit', 'vegetables'): 0.30343635184784956, ('biscuits', 'vegetables', \"'bread and cake'\"): 0.32137454073913985, ('biscuits', 'vegetables', 'fruit'): 0.30343635184784956, (\"'frozen foods'\", \"'bread and cake'\", \"'baking needs'\"): 0.32094229522368706, (\"'frozen foods'\", \"'bread and cake'\", 'biscuits'): 0.3263453641668468, (\"'frozen foods'\", \"'bread and cake'\", 'milk-cream'): 0.3276421007132051, (\"'frozen foods'\", \"'bread and cake'\", 'fruit'): 0.33455802896044956, (\"'frozen foods'\", \"'bread and cake'\", 'vegetables'): 0.33455802896044956, (\"'frozen foods'\", \"'baking needs'\", \"'bread and cake'\"): 0.32094229522368706, (\"'frozen foods'\", 'biscuits', \"'bread and cake'\"): 0.3263453641668468, (\"'frozen foods'\", 'milk-cream', \"'bread and cake'\"): 0.3276421007132051, (\"'frozen foods'\", 'fruit', \"'bread and cake'\"): 0.33455802896044956, (\"'frozen foods'\", 'fruit', 'vegetables'): 0.31359412146098986, (\"'frozen foods'\", 'vegetables', \"'bread and cake'\"): 0.33455802896044956, (\"'frozen foods'\", 'vegetables', 'fruit'): 0.31359412146098986, ('milk-cream', \"'bread and cake'\", \"'baking needs'\"): 0.34147395720769397, ('milk-cream', \"'bread and cake'\", 'biscuits'): 0.32094229522368706, ('milk-cream', \"'bread and cake'\", \"'frozen foods'\"): 0.3276421007132051, ('milk-cream', \"'bread and cake'\", 'fruit'): 0.3639507240112384, ('milk-cream', \"'bread and cake'\", 'vegetables'): 0.3583315323103523, ('milk-cream', \"'baking needs'\", \"'bread and cake'\"): 0.34147395720769397, ('milk-cream', \"'baking needs'\", 'vegetables'): 0.30084287875513294, ('milk-cream', 'biscuits', \"'bread and cake'\"): 0.32094229522368706, ('milk-cream', \"'frozen foods'\", \"'bread and cake'\"): 0.3276421007132051, ('milk-cream', 'fruit', \"'bread and cake'\"): 0.3639507240112384, ('milk-cream', 'fruit', 'vegetables'): 0.3395288523881565, ('milk-cream', 'vegetables', \"'bread and cake'\"): 0.3583315323103523, ('milk-cream', 'vegetables', \"'baking needs'\"): 0.30084287875513294, ('milk-cream', 'vegetables', 'fruit'): 0.3395288523881565, ('fruit', \"'bread and cake'\", \"'baking needs'\"): 0.33801599308407176, ('fruit', \"'bread and cake'\", 'biscuits'): 0.3330451696563648, ('fruit', \"'bread and cake'\", \"'frozen foods'\"): 0.33455802896044956, ('fruit', \"'bread and cake'\", 'milk-cream'): 0.3639507240112384, ('fruit', \"'bread and cake'\", 'vegetables'): 0.38707585908796194, ('fruit', \"'baking needs'\", \"'bread and cake'\"): 0.33801599308407176, ('fruit', \"'baking needs'\", 'vegetables'): 0.32180678625459264, ('fruit', 'biscuits', \"'bread and cake'\"): 0.3330451696563648, ('fruit', 'biscuits', 'vegetables'): 0.30343635184784956, ('fruit', \"'frozen foods'\", \"'bread and cake'\"): 0.33455802896044956, ('fruit', \"'frozen foods'\", 'vegetables'): 0.31359412146098986, ('fruit', 'milk-cream', \"'bread and cake'\"): 0.3639507240112384, ('fruit', 'milk-cream', 'vegetables'): 0.3395288523881565, ('fruit', 'vegetables', \"'bread and cake'\"): 0.38707585908796194, ('fruit', 'vegetables', \"'baking needs'\"): 0.32180678625459264, ('fruit', 'vegetables', 'biscuits'): 0.30343635184784956, ('fruit', 'vegetables', \"'frozen foods'\"): 0.31359412146098986, ('fruit', 'vegetables', 'milk-cream'): 0.3395288523881565, ('vegetables', \"'bread and cake'\", \"'baking needs'\"): 0.3427706937540523, ('vegetables', \"'bread and cake'\", 'biscuits'): 0.32137454073913985, ('vegetables', \"'bread and cake'\", \"'frozen foods'\"): 0.33455802896044956, ('vegetables', \"'bread and cake'\", 'milk-cream'): 0.3583315323103523, ('vegetables', \"'bread and cake'\", 'fruit'): 0.38707585908796194, ('vegetables', \"'baking needs'\", \"'bread and cake'\"): 0.3427706937540523, ('vegetables', \"'baking needs'\", 'milk-cream'): 0.30084287875513294, ('vegetables', \"'baking needs'\", 'fruit'): 0.32180678625459264, ('vegetables', 'biscuits', \"'bread and cake'\"): 0.32137454073913985, ('vegetables', 'biscuits', 'fruit'): 0.30343635184784956, ('vegetables', \"'frozen foods'\", \"'bread and cake'\"): 0.33455802896044956, ('vegetables', \"'frozen foods'\", 'fruit'): 0.31359412146098986, ('vegetables', 'milk-cream', \"'bread and cake'\"): 0.3583315323103523, ('vegetables', 'milk-cream', \"'baking needs'\"): 0.30084287875513294, ('vegetables', 'milk-cream', 'fruit'): 0.3395288523881565, ('vegetables', 'fruit', \"'bread and cake'\"): 0.38707585908796194, ('vegetables', 'fruit', \"'baking needs'\"): 0.32180678625459264, ('vegetables', 'fruit', 'biscuits'): 0.30343635184784956, ('vegetables', 'fruit', \"'frozen foods'\"): 0.31359412146098986, ('vegetables', 'fruit', 'milk-cream'): 0.3395288523881565}\n"
          ]
        }
      ]
    },
    {
      "cell_type": "code",
      "source": [
        "lista_suporte3 = list(suporte3.keys())"
      ],
      "metadata": {
        "id": "gDgOJuzRQwVH"
      },
      "execution_count": null,
      "outputs": []
    },
    {
      "cell_type": "markdown",
      "source": [
        "##SUPORTE 4 COLUNAS"
      ],
      "metadata": {
        "id": "peLOa8QYX2Lu"
      }
    },
    {
      "cell_type": "code",
      "source": [
        "suporte4 = {}\n",
        "\n",
        "for coluna1 in lista_suporte1:\n",
        "  for coluna2 in lista_suporte1:\n",
        "    for coluna3 in lista_suporte1:\n",
        "      for coluna4 in lista_suporte1:\n",
        "        if(coluna1!=coluna2)and(coluna1!=coluna3)and(coluna1!=coluna4)and(coluna2!=coluna3)and(coluna2!=coluna4)and(coluna3!=coluna4):\n",
        "          if (coluna1, coluna2, coluna3) in lista_suporte3:\n",
        "            contagem = supermarket.value_counts([coluna1, coluna2, coluna3, coluna4])\n",
        "            valores_colunas = contagem.get((\"t\", \"t\", \"t\", \"t\"), 0)\n",
        "\n",
        "            if valores_colunas != 0:\n",
        "              suporte_colunas = valores_colunas / qnttotal\n",
        "\n",
        "              if suporte_colunas > suporte4_min:\n",
        "                suporte4[(coluna1), (coluna2), (coluna3), (coluna4)] = suporte_colunas\n",
        "\n",
        "print(\"Suportes: \", suporte4)"
      ],
      "metadata": {
        "colab": {
          "base_uri": "https://localhost:8080/"
        },
        "id": "3GNpYUNnX1je",
        "outputId": "f0bfcc7f-d1b0-46f6-af28-a9c6219fcebd"
      },
      "execution_count": null,
      "outputs": [
        {
          "output_type": "stream",
          "name": "stdout",
          "text": [
            "Suportes:  {(\"'bread and cake'\", \"'baking needs'\", 'milk-cream', 'fruit'): 0.25091852172033713, (\"'bread and cake'\", \"'baking needs'\", 'milk-cream', 'vegetables'): 0.2526475037821483, (\"'bread and cake'\", \"'baking needs'\", 'fruit', 'milk-cream'): 0.25091852172033713, (\"'bread and cake'\", \"'baking needs'\", 'fruit', 'vegetables'): 0.27123406094661767, (\"'bread and cake'\", \"'baking needs'\", 'vegetables', 'milk-cream'): 0.2526475037821483, (\"'bread and cake'\", \"'baking needs'\", 'vegetables', 'fruit'): 0.27123406094661767, (\"'bread and cake'\", 'biscuits', 'fruit', 'vegetables'): 0.26280527339528853, (\"'bread and cake'\", 'biscuits', 'vegetables', 'fruit'): 0.26280527339528853, (\"'bread and cake'\", \"'frozen foods'\", 'fruit', 'vegetables'): 0.2684244650961746, (\"'bread and cake'\", \"'frozen foods'\", 'vegetables', 'fruit'): 0.2684244650961746, (\"'bread and cake'\", 'milk-cream', \"'baking needs'\", 'fruit'): 0.25091852172033713, (\"'bread and cake'\", 'milk-cream', \"'baking needs'\", 'vegetables'): 0.2526475037821483, (\"'bread and cake'\", 'milk-cream', 'fruit', \"'baking needs'\"): 0.25091852172033713, (\"'bread and cake'\", 'milk-cream', 'fruit', 'vegetables'): 0.28333693537929544, (\"'bread and cake'\", 'milk-cream', 'vegetables', \"'baking needs'\"): 0.2526475037821483, (\"'bread and cake'\", 'milk-cream', 'vegetables', 'fruit'): 0.28333693537929544, (\"'bread and cake'\", 'fruit', \"'baking needs'\", 'milk-cream'): 0.25091852172033713, (\"'bread and cake'\", 'fruit', \"'baking needs'\", 'vegetables'): 0.27123406094661767, (\"'bread and cake'\", 'fruit', 'biscuits', 'vegetables'): 0.26280527339528853, (\"'bread and cake'\", 'fruit', \"'frozen foods'\", 'vegetables'): 0.2684244650961746, (\"'bread and cake'\", 'fruit', 'milk-cream', \"'baking needs'\"): 0.25091852172033713, (\"'bread and cake'\", 'fruit', 'milk-cream', 'vegetables'): 0.28333693537929544, (\"'bread and cake'\", 'fruit', 'vegetables', \"'baking needs'\"): 0.27123406094661767, (\"'bread and cake'\", 'fruit', 'vegetables', 'biscuits'): 0.26280527339528853, (\"'bread and cake'\", 'fruit', 'vegetables', \"'frozen foods'\"): 0.2684244650961746, (\"'bread and cake'\", 'fruit', 'vegetables', 'milk-cream'): 0.28333693537929544, (\"'bread and cake'\", 'vegetables', \"'baking needs'\", 'milk-cream'): 0.2526475037821483, (\"'bread and cake'\", 'vegetables', \"'baking needs'\", 'fruit'): 0.27123406094661767, (\"'bread and cake'\", 'vegetables', 'biscuits', 'fruit'): 0.26280527339528853, (\"'bread and cake'\", 'vegetables', \"'frozen foods'\", 'fruit'): 0.2684244650961746, (\"'bread and cake'\", 'vegetables', 'milk-cream', \"'baking needs'\"): 0.2526475037821483, (\"'bread and cake'\", 'vegetables', 'milk-cream', 'fruit'): 0.28333693537929544, (\"'bread and cake'\", 'vegetables', 'fruit', \"'baking needs'\"): 0.27123406094661767, (\"'bread and cake'\", 'vegetables', 'fruit', 'biscuits'): 0.26280527339528853, (\"'bread and cake'\", 'vegetables', 'fruit', \"'frozen foods'\"): 0.2684244650961746, (\"'bread and cake'\", 'vegetables', 'fruit', 'milk-cream'): 0.28333693537929544, (\"'baking needs'\", \"'bread and cake'\", 'milk-cream', 'fruit'): 0.25091852172033713, (\"'baking needs'\", \"'bread and cake'\", 'milk-cream', 'vegetables'): 0.2526475037821483, (\"'baking needs'\", \"'bread and cake'\", 'fruit', 'milk-cream'): 0.25091852172033713, (\"'baking needs'\", \"'bread and cake'\", 'fruit', 'vegetables'): 0.27123406094661767, (\"'baking needs'\", \"'bread and cake'\", 'vegetables', 'milk-cream'): 0.2526475037821483, (\"'baking needs'\", \"'bread and cake'\", 'vegetables', 'fruit'): 0.27123406094661767, (\"'baking needs'\", 'milk-cream', \"'bread and cake'\", 'fruit'): 0.25091852172033713, (\"'baking needs'\", 'milk-cream', \"'bread and cake'\", 'vegetables'): 0.2526475037821483, (\"'baking needs'\", 'milk-cream', 'vegetables', \"'bread and cake'\"): 0.2526475037821483, (\"'baking needs'\", 'fruit', \"'bread and cake'\", 'milk-cream'): 0.25091852172033713, (\"'baking needs'\", 'fruit', \"'bread and cake'\", 'vegetables'): 0.27123406094661767, (\"'baking needs'\", 'fruit', 'vegetables', \"'bread and cake'\"): 0.27123406094661767, (\"'baking needs'\", 'vegetables', \"'bread and cake'\", 'milk-cream'): 0.2526475037821483, (\"'baking needs'\", 'vegetables', \"'bread and cake'\", 'fruit'): 0.27123406094661767, (\"'baking needs'\", 'vegetables', 'milk-cream', \"'bread and cake'\"): 0.2526475037821483, (\"'baking needs'\", 'vegetables', 'fruit', \"'bread and cake'\"): 0.27123406094661767, ('biscuits', \"'bread and cake'\", 'fruit', 'vegetables'): 0.26280527339528853, ('biscuits', \"'bread and cake'\", 'vegetables', 'fruit'): 0.26280527339528853, ('biscuits', 'fruit', \"'bread and cake'\", 'vegetables'): 0.26280527339528853, ('biscuits', 'fruit', 'vegetables', \"'bread and cake'\"): 0.26280527339528853, ('biscuits', 'vegetables', \"'bread and cake'\", 'fruit'): 0.26280527339528853, ('biscuits', 'vegetables', 'fruit', \"'bread and cake'\"): 0.26280527339528853, (\"'frozen foods'\", \"'bread and cake'\", 'fruit', 'vegetables'): 0.2684244650961746, (\"'frozen foods'\", \"'bread and cake'\", 'vegetables', 'fruit'): 0.2684244650961746, (\"'frozen foods'\", 'fruit', \"'bread and cake'\", 'vegetables'): 0.2684244650961746, (\"'frozen foods'\", 'fruit', 'vegetables', \"'bread and cake'\"): 0.2684244650961746, (\"'frozen foods'\", 'vegetables', \"'bread and cake'\", 'fruit'): 0.2684244650961746, (\"'frozen foods'\", 'vegetables', 'fruit', \"'bread and cake'\"): 0.2684244650961746, ('milk-cream', \"'bread and cake'\", \"'baking needs'\", 'fruit'): 0.25091852172033713, ('milk-cream', \"'bread and cake'\", \"'baking needs'\", 'vegetables'): 0.2526475037821483, ('milk-cream', \"'bread and cake'\", 'fruit', \"'baking needs'\"): 0.25091852172033713, ('milk-cream', \"'bread and cake'\", 'fruit', 'vegetables'): 0.28333693537929544, ('milk-cream', \"'bread and cake'\", 'vegetables', \"'baking needs'\"): 0.2526475037821483, ('milk-cream', \"'bread and cake'\", 'vegetables', 'fruit'): 0.28333693537929544, ('milk-cream', \"'baking needs'\", \"'bread and cake'\", 'fruit'): 0.25091852172033713, ('milk-cream', \"'baking needs'\", \"'bread and cake'\", 'vegetables'): 0.2526475037821483, ('milk-cream', \"'baking needs'\", 'vegetables', \"'bread and cake'\"): 0.2526475037821483, ('milk-cream', 'fruit', \"'bread and cake'\", \"'baking needs'\"): 0.25091852172033713, ('milk-cream', 'fruit', \"'bread and cake'\", 'vegetables'): 0.28333693537929544, ('milk-cream', 'fruit', 'vegetables', \"'bread and cake'\"): 0.28333693537929544, ('milk-cream', 'vegetables', \"'bread and cake'\", \"'baking needs'\"): 0.2526475037821483, ('milk-cream', 'vegetables', \"'bread and cake'\", 'fruit'): 0.28333693537929544, ('milk-cream', 'vegetables', \"'baking needs'\", \"'bread and cake'\"): 0.2526475037821483, ('milk-cream', 'vegetables', 'fruit', \"'bread and cake'\"): 0.28333693537929544, ('fruit', \"'bread and cake'\", \"'baking needs'\", 'milk-cream'): 0.25091852172033713, ('fruit', \"'bread and cake'\", \"'baking needs'\", 'vegetables'): 0.27123406094661767, ('fruit', \"'bread and cake'\", 'biscuits', 'vegetables'): 0.26280527339528853, ('fruit', \"'bread and cake'\", \"'frozen foods'\", 'vegetables'): 0.2684244650961746, ('fruit', \"'bread and cake'\", 'milk-cream', \"'baking needs'\"): 0.25091852172033713, ('fruit', \"'bread and cake'\", 'milk-cream', 'vegetables'): 0.28333693537929544, ('fruit', \"'bread and cake'\", 'vegetables', \"'baking needs'\"): 0.27123406094661767, ('fruit', \"'bread and cake'\", 'vegetables', 'biscuits'): 0.26280527339528853, ('fruit', \"'bread and cake'\", 'vegetables', \"'frozen foods'\"): 0.2684244650961746, ('fruit', \"'bread and cake'\", 'vegetables', 'milk-cream'): 0.28333693537929544, ('fruit', \"'baking needs'\", \"'bread and cake'\", 'milk-cream'): 0.25091852172033713, ('fruit', \"'baking needs'\", \"'bread and cake'\", 'vegetables'): 0.27123406094661767, ('fruit', \"'baking needs'\", 'vegetables', \"'bread and cake'\"): 0.27123406094661767, ('fruit', 'biscuits', \"'bread and cake'\", 'vegetables'): 0.26280527339528853, ('fruit', 'biscuits', 'vegetables', \"'bread and cake'\"): 0.26280527339528853, ('fruit', \"'frozen foods'\", \"'bread and cake'\", 'vegetables'): 0.2684244650961746, ('fruit', \"'frozen foods'\", 'vegetables', \"'bread and cake'\"): 0.2684244650961746, ('fruit', 'milk-cream', \"'bread and cake'\", \"'baking needs'\"): 0.25091852172033713, ('fruit', 'milk-cream', \"'bread and cake'\", 'vegetables'): 0.28333693537929544, ('fruit', 'milk-cream', 'vegetables', \"'bread and cake'\"): 0.28333693537929544, ('fruit', 'vegetables', \"'bread and cake'\", \"'baking needs'\"): 0.27123406094661767, ('fruit', 'vegetables', \"'bread and cake'\", 'biscuits'): 0.26280527339528853, ('fruit', 'vegetables', \"'bread and cake'\", \"'frozen foods'\"): 0.2684244650961746, ('fruit', 'vegetables', \"'bread and cake'\", 'milk-cream'): 0.28333693537929544, ('fruit', 'vegetables', \"'baking needs'\", \"'bread and cake'\"): 0.27123406094661767, ('fruit', 'vegetables', 'biscuits', \"'bread and cake'\"): 0.26280527339528853, ('fruit', 'vegetables', \"'frozen foods'\", \"'bread and cake'\"): 0.2684244650961746, ('fruit', 'vegetables', 'milk-cream', \"'bread and cake'\"): 0.28333693537929544, ('vegetables', \"'bread and cake'\", \"'baking needs'\", 'milk-cream'): 0.2526475037821483, ('vegetables', \"'bread and cake'\", \"'baking needs'\", 'fruit'): 0.27123406094661767, ('vegetables', \"'bread and cake'\", 'biscuits', 'fruit'): 0.26280527339528853, ('vegetables', \"'bread and cake'\", \"'frozen foods'\", 'fruit'): 0.2684244650961746, ('vegetables', \"'bread and cake'\", 'milk-cream', \"'baking needs'\"): 0.2526475037821483, ('vegetables', \"'bread and cake'\", 'milk-cream', 'fruit'): 0.28333693537929544, ('vegetables', \"'bread and cake'\", 'fruit', \"'baking needs'\"): 0.27123406094661767, ('vegetables', \"'bread and cake'\", 'fruit', 'biscuits'): 0.26280527339528853, ('vegetables', \"'bread and cake'\", 'fruit', \"'frozen foods'\"): 0.2684244650961746, ('vegetables', \"'bread and cake'\", 'fruit', 'milk-cream'): 0.28333693537929544, ('vegetables', \"'baking needs'\", \"'bread and cake'\", 'milk-cream'): 0.2526475037821483, ('vegetables', \"'baking needs'\", \"'bread and cake'\", 'fruit'): 0.27123406094661767, ('vegetables', \"'baking needs'\", 'milk-cream', \"'bread and cake'\"): 0.2526475037821483, ('vegetables', \"'baking needs'\", 'fruit', \"'bread and cake'\"): 0.27123406094661767, ('vegetables', 'biscuits', \"'bread and cake'\", 'fruit'): 0.26280527339528853, ('vegetables', 'biscuits', 'fruit', \"'bread and cake'\"): 0.26280527339528853, ('vegetables', \"'frozen foods'\", \"'bread and cake'\", 'fruit'): 0.2684244650961746, ('vegetables', \"'frozen foods'\", 'fruit', \"'bread and cake'\"): 0.2684244650961746, ('vegetables', 'milk-cream', \"'bread and cake'\", \"'baking needs'\"): 0.2526475037821483, ('vegetables', 'milk-cream', \"'bread and cake'\", 'fruit'): 0.28333693537929544, ('vegetables', 'milk-cream', \"'baking needs'\", \"'bread and cake'\"): 0.2526475037821483, ('vegetables', 'milk-cream', 'fruit', \"'bread and cake'\"): 0.28333693537929544, ('vegetables', 'fruit', \"'bread and cake'\", \"'baking needs'\"): 0.27123406094661767, ('vegetables', 'fruit', \"'bread and cake'\", 'biscuits'): 0.26280527339528853, ('vegetables', 'fruit', \"'bread and cake'\", \"'frozen foods'\"): 0.2684244650961746, ('vegetables', 'fruit', \"'bread and cake'\", 'milk-cream'): 0.28333693537929544, ('vegetables', 'fruit', \"'baking needs'\", \"'bread and cake'\"): 0.27123406094661767, ('vegetables', 'fruit', 'biscuits', \"'bread and cake'\"): 0.26280527339528853, ('vegetables', 'fruit', \"'frozen foods'\", \"'bread and cake'\"): 0.2684244650961746, ('vegetables', 'fruit', 'milk-cream', \"'bread and cake'\"): 0.28333693537929544}\n"
          ]
        }
      ]
    },
    {
      "cell_type": "markdown",
      "source": [
        "#CONFIANÇAS"
      ],
      "metadata": {
        "id": "XweEGCPz8UHZ"
      }
    },
    {
      "cell_type": "markdown",
      "source": [
        "##CONFIANÇA 2 COLUNAS"
      ],
      "metadata": {
        "id": "XKzXrgIKJIeN"
      }
    },
    {
      "cell_type": "code",
      "source": [
        "confianca = {}\n",
        "\n",
        "for coluna1 in colunas:\n",
        "  for coluna2 in colunas:\n",
        "    if (coluna1, coluna2) in suporte2 and (coluna1) in suporte1:\n",
        "      suporte_colunas = suporte2[(coluna1, coluna2)]\n",
        "      suporte_coluna = suporte1[coluna1]\n",
        "\n",
        "      numerador = suporte_colunas\n",
        "      denominador = suporte_coluna\n",
        "\n",
        "      if denominador != 0:\n",
        "        conf = numerador / denominador\n",
        "        if conf >= conf2_min:\n",
        "          confianca[(coluna1), (coluna2)] = conf\n",
        "\n",
        "print(\"Confiança: \", confianca)"
      ],
      "metadata": {
        "colab": {
          "base_uri": "https://localhost:8080/"
        },
        "id": "B2uc5IGP7H6c",
        "outputId": "9bfbf30e-ab5c-4985-9f02-b4461e806b88"
      },
      "execution_count": null,
      "outputs": [
        {
          "output_type": "stream",
          "name": "stdout",
          "text": [
            "Confiança:  {(\"'bread and cake'\", \"'baking needs'\"): 0.657957957957958, (\"'bread and cake'\", 'biscuits'): 0.6255255255255255, (\"'bread and cake'\", \"'frozen foods'\"): 0.6393393393393393, (\"'bread and cake'\", 'milk-cream'): 0.7018018018018019, (\"'bread and cake'\", 'fruit'): 0.6981981981981982, (\"'bread and cake'\", 'vegetables'): 0.69009009009009, (\"'baking needs'\", \"'bread and cake'\"): 0.7838998211091235, (\"'baking needs'\", 'biscuits'): 0.6311270125223614, (\"'baking needs'\", \"'frozen foods'\"): 0.6565295169946334, (\"'baking needs'\", 'milk-cream'): 0.6822898032200359, (\"'baking needs'\", 'fruit'): 0.6797853309481217, (\"'baking needs'\", 'vegetables'): 0.6973166368515206, ('juice-sat-cord-ms', \"'bread and cake'\"): 0.7588306942752742, ('juice-sat-cord-ms', 'milk-cream'): 0.6646366220056842, ('juice-sat-cord-ms', 'fruit'): 0.678846934632562, ('juice-sat-cord-ms', 'vegetables'): 0.673162809581811, ('biscuits', \"'bread and cake'\"): 0.799616122840691, ('biscuits', \"'baking needs'\"): 0.6771593090211133, ('biscuits', \"'frozen foods'\"): 0.6948176583493283, ('biscuits', 'milk-cream'): 0.6783109404990403, ('biscuits', 'fruit'): 0.7051823416506717, ('biscuits', 'vegetables'): 0.6771593090211133, ('sauces-gravy-pkle', \"'bread and cake'\"): 0.7769195820081781, (\"'frozen foods'\", \"'bread and cake'\"): 0.7835848362164152, (\"'frozen foods'\", \"'baking needs'\"): 0.6753772543246228, (\"'frozen foods'\", 'biscuits'): 0.6661759293338241, (\"'frozen foods'\", 'milk-cream'): 0.6720647773279352, (\"'frozen foods'\", 'fruit'): 0.6849466323150534, (\"'frozen foods'\", 'vegetables'): 0.6926757453073242, (\"'party snack foods'\", \"'bread and cake'\"): 0.7759656652360515, (\"'tissues-paper prd'\", \"'bread and cake'\"): 0.7903871829105474, ('milk-cream', \"'bread and cake'\"): 0.7951684246342294, ('milk-cream', \"'baking needs'\"): 0.6488601565158217, ('milk-cream', 'biscuits'): 0.6012249064307588, ('milk-cream', \"'frozen foods'\"): 0.6212997618237496, ('milk-cream', 'fruit'): 0.6934331405239879, ('milk-cream', 'vegetables'): 0.6890098673018034, ('margarine', \"'bread and cake'\"): 0.8002622377622377, ('margarine', \"'baking needs'\"): 0.7189685314685313, ('fruit', \"'bread and cake'\"): 0.7849426063470628, ('fruit', \"'baking needs'\"): 0.6414584740040513, ('fruit', 'biscuits'): 0.6201890614449697, ('fruit', \"'frozen foods'\"): 0.6282916948008104, ('fruit', 'milk-cream'): 0.6880486158001351, ('fruit', 'vegetables'): 0.7451046590141797, ('vegetables', \"'bread and cake'\"): 0.7760891590678823, ('vegetables', \"'baking needs'\"): 0.65822357311719, ('vegetables', \"'frozen foods'\"): 0.635596082404593, ('vegetables', 'milk-cream'): 0.6838905775075987, ('vegetables', 'fruit'): 0.7453562985477878}\n"
          ]
        }
      ]
    },
    {
      "cell_type": "markdown",
      "source": [
        "##CONFIANÇA 3 COLUNAS"
      ],
      "metadata": {
        "id": "XcYAonNy7IWT"
      }
    },
    {
      "cell_type": "code",
      "source": [
        "\n",
        "for coluna1 in lista_suporte1:\n",
        "  for coluna2 in lista_suporte1:\n",
        "    for coluna3 in lista_suporte1:\n",
        "      if (coluna1, coluna2, coluna3) in suporte3 and (coluna1) in suporte1:\n",
        "        suporte_colunas = suporte3[(coluna1, coluna2, coluna3)]\n",
        "        suporte_coluna = suporte1[coluna1]\n",
        "\n",
        "        numerador = suporte_colunas\n",
        "        denominador = suporte_coluna\n",
        "\n",
        "        if denominador != 0:\n",
        "          conf = numerador / denominador\n",
        "          if conf >= conf3_min:\n",
        "            confianca[(coluna1), (coluna2), (coluna3)] = conf\n",
        "\n",
        "print(\"Confiança: \", confianca)"
      ],
      "metadata": {
        "colab": {
          "base_uri": "https://localhost:8080/"
        },
        "id": "-p5exylREEJg",
        "outputId": "dd03ef31-a43f-4068-dffe-78e0de81c01e"
      },
      "execution_count": null,
      "outputs": [
        {
          "output_type": "stream",
          "name": "stdout",
          "text": [
            "Confiança:  {(\"'bread and cake'\", \"'baking needs'\"): 0.657957957957958, (\"'bread and cake'\", 'biscuits'): 0.6255255255255255, (\"'bread and cake'\", \"'frozen foods'\"): 0.6393393393393393, (\"'bread and cake'\", 'milk-cream'): 0.7018018018018019, (\"'bread and cake'\", 'fruit'): 0.6981981981981982, (\"'bread and cake'\", 'vegetables'): 0.69009009009009, (\"'baking needs'\", \"'bread and cake'\"): 0.7838998211091235, (\"'baking needs'\", 'biscuits'): 0.6311270125223614, (\"'baking needs'\", \"'frozen foods'\"): 0.6565295169946334, (\"'baking needs'\", 'milk-cream'): 0.6822898032200359, (\"'baking needs'\", 'fruit'): 0.6797853309481217, (\"'baking needs'\", 'vegetables'): 0.6973166368515206, ('juice-sat-cord-ms', \"'bread and cake'\"): 0.7588306942752742, ('juice-sat-cord-ms', 'milk-cream'): 0.6646366220056842, ('juice-sat-cord-ms', 'fruit'): 0.678846934632562, ('juice-sat-cord-ms', 'vegetables'): 0.673162809581811, ('biscuits', \"'bread and cake'\"): 0.799616122840691, ('biscuits', \"'baking needs'\"): 0.6771593090211133, ('biscuits', \"'frozen foods'\"): 0.6948176583493283, ('biscuits', 'milk-cream'): 0.6783109404990403, ('biscuits', 'fruit'): 0.7051823416506717, ('biscuits', 'vegetables'): 0.6771593090211133, ('sauces-gravy-pkle', \"'bread and cake'\"): 0.7769195820081781, (\"'frozen foods'\", \"'bread and cake'\"): 0.7835848362164152, (\"'frozen foods'\", \"'baking needs'\"): 0.6753772543246228, (\"'frozen foods'\", 'biscuits'): 0.6661759293338241, (\"'frozen foods'\", 'milk-cream'): 0.6720647773279352, (\"'frozen foods'\", 'fruit'): 0.6849466323150534, (\"'frozen foods'\", 'vegetables'): 0.6926757453073242, (\"'party snack foods'\", \"'bread and cake'\"): 0.7759656652360515, (\"'tissues-paper prd'\", \"'bread and cake'\"): 0.7903871829105474, ('milk-cream', \"'bread and cake'\"): 0.7951684246342294, ('milk-cream', \"'baking needs'\"): 0.6488601565158217, ('milk-cream', 'biscuits'): 0.6012249064307588, ('milk-cream', \"'frozen foods'\"): 0.6212997618237496, ('milk-cream', 'fruit'): 0.6934331405239879, ('milk-cream', 'vegetables'): 0.6890098673018034, ('margarine', \"'bread and cake'\"): 0.8002622377622377, ('margarine', \"'baking needs'\"): 0.7189685314685313, ('fruit', \"'bread and cake'\"): 0.7849426063470628, ('fruit', \"'baking needs'\"): 0.6414584740040513, ('fruit', 'biscuits'): 0.6201890614449697, ('fruit', \"'frozen foods'\"): 0.6282916948008104, ('fruit', 'milk-cream'): 0.6880486158001351, ('fruit', 'vegetables'): 0.7451046590141797, ('vegetables', \"'bread and cake'\"): 0.7760891590678823, ('vegetables', \"'baking needs'\"): 0.65822357311719, ('vegetables', \"'frozen foods'\"): 0.635596082404593, ('vegetables', 'milk-cream'): 0.6838905775075987, ('vegetables', 'fruit'): 0.7453562985477878, (\"'bread and cake'\", \"'baking needs'\", 'biscuits'): 0.4372372372372373, (\"'bread and cake'\", \"'baking needs'\", \"'frozen foods'\"): 0.44594594594594594, (\"'bread and cake'\", \"'baking needs'\", 'milk-cream'): 0.4744744744744745, (\"'bread and cake'\", \"'baking needs'\", 'fruit'): 0.4696696696696697, (\"'bread and cake'\", \"'baking needs'\", 'vegetables'): 0.4762762762762763, (\"'bread and cake'\", 'biscuits', \"'baking needs'\"): 0.4372372372372373, (\"'bread and cake'\", 'biscuits', \"'frozen foods'\"): 0.4534534534534535, (\"'bread and cake'\", 'biscuits', 'milk-cream'): 0.44594594594594594, (\"'bread and cake'\", 'biscuits', 'fruit'): 0.4627627627627628, (\"'bread and cake'\", 'biscuits', 'vegetables'): 0.4465465465465466, (\"'bread and cake'\", \"'frozen foods'\", \"'baking needs'\"): 0.44594594594594594, (\"'bread and cake'\", \"'frozen foods'\", 'biscuits'): 0.4534534534534535, (\"'bread and cake'\", \"'frozen foods'\", 'milk-cream'): 0.4552552552552553, (\"'bread and cake'\", \"'frozen foods'\", 'fruit'): 0.4648648648648649, (\"'bread and cake'\", \"'frozen foods'\", 'vegetables'): 0.4648648648648649, (\"'bread and cake'\", 'milk-cream', \"'baking needs'\"): 0.4744744744744745, (\"'bread and cake'\", 'milk-cream', 'biscuits'): 0.44594594594594594, (\"'bread and cake'\", 'milk-cream', \"'frozen foods'\"): 0.4552552552552553, (\"'bread and cake'\", 'milk-cream', 'fruit'): 0.5057057057057057, (\"'bread and cake'\", 'milk-cream', 'vegetables'): 0.49789789789789796, (\"'bread and cake'\", 'fruit', \"'baking needs'\"): 0.4696696696696697, (\"'bread and cake'\", 'fruit', 'biscuits'): 0.4627627627627628, (\"'bread and cake'\", 'fruit', \"'frozen foods'\"): 0.4648648648648649, (\"'bread and cake'\", 'fruit', 'milk-cream'): 0.5057057057057057, (\"'bread and cake'\", 'fruit', 'vegetables'): 0.5378378378378378, (\"'bread and cake'\", 'vegetables', \"'baking needs'\"): 0.4762762762762763, (\"'bread and cake'\", 'vegetables', 'biscuits'): 0.4465465465465466, (\"'bread and cake'\", 'vegetables', \"'frozen foods'\"): 0.4648648648648649, (\"'bread and cake'\", 'vegetables', 'milk-cream'): 0.49789789789789796, (\"'bread and cake'\", 'vegetables', 'fruit'): 0.5378378378378378, (\"'baking needs'\", \"'bread and cake'\", 'biscuits'): 0.5209302325581396, (\"'baking needs'\", \"'bread and cake'\", \"'frozen foods'\"): 0.5313059033989267, (\"'baking needs'\", \"'bread and cake'\", 'milk-cream'): 0.5652951699463328, (\"'baking needs'\", \"'bread and cake'\", 'fruit'): 0.5595706618962434, (\"'baking needs'\", \"'bread and cake'\", 'vegetables'): 0.5674418604651162, (\"'baking needs'\", 'biscuits', \"'bread and cake'\"): 0.5209302325581396, (\"'baking needs'\", \"'frozen foods'\", \"'bread and cake'\"): 0.5313059033989267, (\"'baking needs'\", 'milk-cream', \"'bread and cake'\"): 0.5652951699463328, (\"'baking needs'\", 'milk-cream', 'vegetables'): 0.49803220035778184, (\"'baking needs'\", 'fruit', \"'bread and cake'\"): 0.5595706618962434, (\"'baking needs'\", 'fruit', 'vegetables'): 0.532737030411449, (\"'baking needs'\", 'vegetables', \"'bread and cake'\"): 0.5674418604651162, (\"'baking needs'\", 'vegetables', 'milk-cream'): 0.49803220035778184, (\"'baking needs'\", 'vegetables', 'fruit'): 0.532737030411449, ('biscuits', \"'bread and cake'\", \"'baking needs'\"): 0.5589251439539348, ('biscuits', \"'bread and cake'\", \"'frozen foods'\"): 0.579654510556622, ('biscuits', \"'bread and cake'\", 'milk-cream'): 0.5700575815738964, ('biscuits', \"'bread and cake'\", 'fruit'): 0.5915547024952016, ('biscuits', \"'bread and cake'\", 'vegetables'): 0.5708253358925145, ('biscuits', \"'baking needs'\", \"'bread and cake'\"): 0.5589251439539348, ('biscuits', \"'frozen foods'\", \"'bread and cake'\"): 0.579654510556622, ('biscuits', 'milk-cream', \"'bread and cake'\"): 0.5700575815738964, ('biscuits', 'fruit', \"'bread and cake'\"): 0.5915547024952016, ('biscuits', 'fruit', 'vegetables'): 0.5389635316698657, ('biscuits', 'vegetables', \"'bread and cake'\"): 0.5708253358925145, ('biscuits', 'vegetables', 'fruit'): 0.5389635316698657, (\"'frozen foods'\", \"'bread and cake'\", \"'baking needs'\"): 0.5465587044534413, (\"'frozen foods'\", \"'bread and cake'\", 'biscuits'): 0.55576002944424, (\"'frozen foods'\", \"'bread and cake'\", 'milk-cream'): 0.5579683474420316, (\"'frozen foods'\", \"'bread and cake'\", 'fruit'): 0.569746043430254, (\"'frozen foods'\", \"'bread and cake'\", 'vegetables'): 0.569746043430254, (\"'frozen foods'\", \"'baking needs'\", \"'bread and cake'\"): 0.5465587044534413, (\"'frozen foods'\", 'biscuits', \"'bread and cake'\"): 0.55576002944424, (\"'frozen foods'\", 'milk-cream', \"'bread and cake'\"): 0.5579683474420316, (\"'frozen foods'\", 'fruit', \"'bread and cake'\"): 0.569746043430254, (\"'frozen foods'\", 'fruit', 'vegetables'): 0.5340449024659552, (\"'frozen foods'\", 'vegetables', \"'bread and cake'\"): 0.569746043430254, (\"'frozen foods'\", 'vegetables', 'fruit'): 0.5340449024659552, ('milk-cream', \"'bread and cake'\", \"'baking needs'\"): 0.5375978223885676, ('milk-cream', \"'bread and cake'\", 'biscuits'): 0.5052739026879891, ('milk-cream', \"'bread and cake'\", \"'frozen foods'\"): 0.5158217080639673, ('milk-cream', \"'bread and cake'\", 'fruit'): 0.5729840081660429, ('milk-cream', \"'bread and cake'\", 'vegetables'): 0.5641374617216741, ('milk-cream', \"'baking needs'\", \"'bread and cake'\"): 0.5375978223885676, ('milk-cream', \"'baking needs'\", 'vegetables'): 0.4736304865600545, ('milk-cream', 'biscuits', \"'bread and cake'\"): 0.5052739026879891, ('milk-cream', \"'frozen foods'\", \"'bread and cake'\"): 0.5158217080639673, ('milk-cream', 'fruit', \"'bread and cake'\"): 0.5729840081660429, ('milk-cream', 'fruit', 'vegetables'): 0.5345355563116707, ('milk-cream', 'vegetables', \"'bread and cake'\"): 0.5641374617216741, ('milk-cream', 'vegetables', \"'baking needs'\"): 0.4736304865600545, ('milk-cream', 'vegetables', 'fruit'): 0.5345355563116707, ('fruit', \"'bread and cake'\", \"'baking needs'\"): 0.5280216070222823, ('fruit', \"'bread and cake'\", 'biscuits'): 0.5202565833896017, ('fruit', \"'bread and cake'\", \"'frozen foods'\"): 0.5226198514517219, ('fruit', \"'bread and cake'\", 'milk-cream'): 0.5685347738014855, ('fruit', \"'bread and cake'\", 'vegetables'): 0.6046590141796083, ('fruit', \"'baking needs'\", \"'bread and cake'\"): 0.5280216070222823, ('fruit', \"'baking needs'\", 'vegetables'): 0.5027008777852803, ('fruit', 'biscuits', \"'bread and cake'\"): 0.5202565833896017, ('fruit', 'biscuits', 'vegetables'): 0.47400405131667794, ('fruit', \"'frozen foods'\", \"'bread and cake'\"): 0.5226198514517219, ('fruit', \"'frozen foods'\", 'vegetables'): 0.48987170830519927, ('fruit', 'milk-cream', \"'bread and cake'\"): 0.5685347738014855, ('fruit', 'milk-cream', 'vegetables'): 0.5303848750844025, ('fruit', 'vegetables', \"'bread and cake'\"): 0.6046590141796083, ('fruit', 'vegetables', \"'baking needs'\"): 0.5027008777852803, ('fruit', 'vegetables', 'biscuits'): 0.47400405131667794, ('fruit', 'vegetables', \"'frozen foods'\"): 0.48987170830519927, ('fruit', 'vegetables', 'milk-cream'): 0.5303848750844025, ('vegetables', \"'bread and cake'\", \"'baking needs'\"): 0.5356298547787909, ('vegetables', \"'bread and cake'\", 'biscuits'): 0.5021952043228639, ('vegetables', \"'bread and cake'\", \"'frozen foods'\"): 0.5227963525835866, ('vegetables', \"'bread and cake'\", 'milk-cream'): 0.5599459642012834, ('vegetables', \"'bread and cake'\", 'fruit'): 0.6048632218844984, ('vegetables', \"'baking needs'\", \"'bread and cake'\"): 0.5356298547787909, ('vegetables', \"'baking needs'\", 'milk-cream'): 0.4701114488348531, ('vegetables', \"'baking needs'\", 'fruit'): 0.502870651806822, ('vegetables', 'biscuits', \"'bread and cake'\"): 0.5021952043228639, ('vegetables', 'biscuits', 'fruit'): 0.4741641337386018, ('vegetables', \"'frozen foods'\", \"'bread and cake'\"): 0.5227963525835866, ('vegetables', \"'frozen foods'\", 'fruit'): 0.4900371496116177, ('vegetables', 'milk-cream', \"'bread and cake'\"): 0.5599459642012834, ('vegetables', 'milk-cream', \"'baking needs'\"): 0.4701114488348531, ('vegetables', 'milk-cream', 'fruit'): 0.5305639986491051, ('vegetables', 'fruit', \"'bread and cake'\"): 0.6048632218844984, ('vegetables', 'fruit', \"'baking needs'\"): 0.502870651806822, ('vegetables', 'fruit', 'biscuits'): 0.4741641337386018, ('vegetables', 'fruit', \"'frozen foods'\"): 0.4900371496116177, ('vegetables', 'fruit', 'milk-cream'): 0.5305639986491051}\n"
          ]
        }
      ]
    },
    {
      "cell_type": "markdown",
      "source": [
        "##CONFIANÇA 4 COLUNAS"
      ],
      "metadata": {
        "id": "dn2pWcXQ9BoQ"
      }
    },
    {
      "cell_type": "code",
      "source": [
        "\n",
        "for coluna1 in lista_suporte1:\n",
        "  for coluna2 in lista_suporte1:\n",
        "    for coluna3 in lista_suporte1:\n",
        "      for coluna4 in lista_suporte1:\n",
        "        if (coluna1, coluna2, coluna3, coluna4) in suporte4 and (coluna1) in suporte1:\n",
        "          suporte_colunas = suporte4[(coluna1, coluna2, coluna3, coluna4)]\n",
        "          suporte_coluna = suporte1[coluna1]\n",
        "\n",
        "          numerador = suporte_colunas\n",
        "          denominador = suporte_coluna\n",
        "\n",
        "          if denominador != 0:\n",
        "            conf = numerador / denominador\n",
        "            if conf >= conf4_min:\n",
        "              confianca[(coluna1), (coluna2), (coluna3), (coluna4)] = conf\n",
        "\n",
        "print(\"Confiança: \", confianca)"
      ],
      "metadata": {
        "colab": {
          "base_uri": "https://localhost:8080/"
        },
        "id": "mq9FYnGs9EKz",
        "outputId": "89949ea6-2049-491d-85ab-8e2995b23ba0"
      },
      "execution_count": null,
      "outputs": [
        {
          "output_type": "stream",
          "name": "stdout",
          "text": [
            "Confiança:  {(\"'bread and cake'\", \"'baking needs'\"): 0.657957957957958, (\"'bread and cake'\", 'biscuits'): 0.6255255255255255, (\"'bread and cake'\", \"'frozen foods'\"): 0.6393393393393393, (\"'bread and cake'\", 'milk-cream'): 0.7018018018018019, (\"'bread and cake'\", 'fruit'): 0.6981981981981982, (\"'bread and cake'\", 'vegetables'): 0.69009009009009, (\"'baking needs'\", \"'bread and cake'\"): 0.7838998211091235, (\"'baking needs'\", 'biscuits'): 0.6311270125223614, (\"'baking needs'\", \"'frozen foods'\"): 0.6565295169946334, (\"'baking needs'\", 'milk-cream'): 0.6822898032200359, (\"'baking needs'\", 'fruit'): 0.6797853309481217, (\"'baking needs'\", 'vegetables'): 0.6973166368515206, ('juice-sat-cord-ms', \"'bread and cake'\"): 0.7588306942752742, ('juice-sat-cord-ms', 'milk-cream'): 0.6646366220056842, ('juice-sat-cord-ms', 'fruit'): 0.678846934632562, ('juice-sat-cord-ms', 'vegetables'): 0.673162809581811, ('biscuits', \"'bread and cake'\"): 0.799616122840691, ('biscuits', \"'baking needs'\"): 0.6771593090211133, ('biscuits', \"'frozen foods'\"): 0.6948176583493283, ('biscuits', 'milk-cream'): 0.6783109404990403, ('biscuits', 'fruit'): 0.7051823416506717, ('biscuits', 'vegetables'): 0.6771593090211133, ('sauces-gravy-pkle', \"'bread and cake'\"): 0.7769195820081781, (\"'frozen foods'\", \"'bread and cake'\"): 0.7835848362164152, (\"'frozen foods'\", \"'baking needs'\"): 0.6753772543246228, (\"'frozen foods'\", 'biscuits'): 0.6661759293338241, (\"'frozen foods'\", 'milk-cream'): 0.6720647773279352, (\"'frozen foods'\", 'fruit'): 0.6849466323150534, (\"'frozen foods'\", 'vegetables'): 0.6926757453073242, (\"'party snack foods'\", \"'bread and cake'\"): 0.7759656652360515, (\"'tissues-paper prd'\", \"'bread and cake'\"): 0.7903871829105474, ('milk-cream', \"'bread and cake'\"): 0.7951684246342294, ('milk-cream', \"'baking needs'\"): 0.6488601565158217, ('milk-cream', 'biscuits'): 0.6012249064307588, ('milk-cream', \"'frozen foods'\"): 0.6212997618237496, ('milk-cream', 'fruit'): 0.6934331405239879, ('milk-cream', 'vegetables'): 0.6890098673018034, ('margarine', \"'bread and cake'\"): 0.8002622377622377, ('margarine', \"'baking needs'\"): 0.7189685314685313, ('fruit', \"'bread and cake'\"): 0.7849426063470628, ('fruit', \"'baking needs'\"): 0.6414584740040513, ('fruit', 'biscuits'): 0.6201890614449697, ('fruit', \"'frozen foods'\"): 0.6282916948008104, ('fruit', 'milk-cream'): 0.6880486158001351, ('fruit', 'vegetables'): 0.7451046590141797, ('vegetables', \"'bread and cake'\"): 0.7760891590678823, ('vegetables', \"'baking needs'\"): 0.65822357311719, ('vegetables', \"'frozen foods'\"): 0.635596082404593, ('vegetables', 'milk-cream'): 0.6838905775075987, ('vegetables', 'fruit'): 0.7453562985477878, (\"'bread and cake'\", \"'baking needs'\", 'biscuits'): 0.4372372372372373, (\"'bread and cake'\", \"'baking needs'\", \"'frozen foods'\"): 0.44594594594594594, (\"'bread and cake'\", \"'baking needs'\", 'milk-cream'): 0.4744744744744745, (\"'bread and cake'\", \"'baking needs'\", 'fruit'): 0.4696696696696697, (\"'bread and cake'\", \"'baking needs'\", 'vegetables'): 0.4762762762762763, (\"'bread and cake'\", 'biscuits', \"'baking needs'\"): 0.4372372372372373, (\"'bread and cake'\", 'biscuits', \"'frozen foods'\"): 0.4534534534534535, (\"'bread and cake'\", 'biscuits', 'milk-cream'): 0.44594594594594594, (\"'bread and cake'\", 'biscuits', 'fruit'): 0.4627627627627628, (\"'bread and cake'\", 'biscuits', 'vegetables'): 0.4465465465465466, (\"'bread and cake'\", \"'frozen foods'\", \"'baking needs'\"): 0.44594594594594594, (\"'bread and cake'\", \"'frozen foods'\", 'biscuits'): 0.4534534534534535, (\"'bread and cake'\", \"'frozen foods'\", 'milk-cream'): 0.4552552552552553, (\"'bread and cake'\", \"'frozen foods'\", 'fruit'): 0.4648648648648649, (\"'bread and cake'\", \"'frozen foods'\", 'vegetables'): 0.4648648648648649, (\"'bread and cake'\", 'milk-cream', \"'baking needs'\"): 0.4744744744744745, (\"'bread and cake'\", 'milk-cream', 'biscuits'): 0.44594594594594594, (\"'bread and cake'\", 'milk-cream', \"'frozen foods'\"): 0.4552552552552553, (\"'bread and cake'\", 'milk-cream', 'fruit'): 0.5057057057057057, (\"'bread and cake'\", 'milk-cream', 'vegetables'): 0.49789789789789796, (\"'bread and cake'\", 'fruit', \"'baking needs'\"): 0.4696696696696697, (\"'bread and cake'\", 'fruit', 'biscuits'): 0.4627627627627628, (\"'bread and cake'\", 'fruit', \"'frozen foods'\"): 0.4648648648648649, (\"'bread and cake'\", 'fruit', 'milk-cream'): 0.5057057057057057, (\"'bread and cake'\", 'fruit', 'vegetables'): 0.5378378378378378, (\"'bread and cake'\", 'vegetables', \"'baking needs'\"): 0.4762762762762763, (\"'bread and cake'\", 'vegetables', 'biscuits'): 0.4465465465465466, (\"'bread and cake'\", 'vegetables', \"'frozen foods'\"): 0.4648648648648649, (\"'bread and cake'\", 'vegetables', 'milk-cream'): 0.49789789789789796, (\"'bread and cake'\", 'vegetables', 'fruit'): 0.5378378378378378, (\"'baking needs'\", \"'bread and cake'\", 'biscuits'): 0.5209302325581396, (\"'baking needs'\", \"'bread and cake'\", \"'frozen foods'\"): 0.5313059033989267, (\"'baking needs'\", \"'bread and cake'\", 'milk-cream'): 0.5652951699463328, (\"'baking needs'\", \"'bread and cake'\", 'fruit'): 0.5595706618962434, (\"'baking needs'\", \"'bread and cake'\", 'vegetables'): 0.5674418604651162, (\"'baking needs'\", 'biscuits', \"'bread and cake'\"): 0.5209302325581396, (\"'baking needs'\", \"'frozen foods'\", \"'bread and cake'\"): 0.5313059033989267, (\"'baking needs'\", 'milk-cream', \"'bread and cake'\"): 0.5652951699463328, (\"'baking needs'\", 'milk-cream', 'vegetables'): 0.49803220035778184, (\"'baking needs'\", 'fruit', \"'bread and cake'\"): 0.5595706618962434, (\"'baking needs'\", 'fruit', 'vegetables'): 0.532737030411449, (\"'baking needs'\", 'vegetables', \"'bread and cake'\"): 0.5674418604651162, (\"'baking needs'\", 'vegetables', 'milk-cream'): 0.49803220035778184, (\"'baking needs'\", 'vegetables', 'fruit'): 0.532737030411449, ('biscuits', \"'bread and cake'\", \"'baking needs'\"): 0.5589251439539348, ('biscuits', \"'bread and cake'\", \"'frozen foods'\"): 0.579654510556622, ('biscuits', \"'bread and cake'\", 'milk-cream'): 0.5700575815738964, ('biscuits', \"'bread and cake'\", 'fruit'): 0.5915547024952016, ('biscuits', \"'bread and cake'\", 'vegetables'): 0.5708253358925145, ('biscuits', \"'baking needs'\", \"'bread and cake'\"): 0.5589251439539348, ('biscuits', \"'frozen foods'\", \"'bread and cake'\"): 0.579654510556622, ('biscuits', 'milk-cream', \"'bread and cake'\"): 0.5700575815738964, ('biscuits', 'fruit', \"'bread and cake'\"): 0.5915547024952016, ('biscuits', 'fruit', 'vegetables'): 0.5389635316698657, ('biscuits', 'vegetables', \"'bread and cake'\"): 0.5708253358925145, ('biscuits', 'vegetables', 'fruit'): 0.5389635316698657, (\"'frozen foods'\", \"'bread and cake'\", \"'baking needs'\"): 0.5465587044534413, (\"'frozen foods'\", \"'bread and cake'\", 'biscuits'): 0.55576002944424, (\"'frozen foods'\", \"'bread and cake'\", 'milk-cream'): 0.5579683474420316, (\"'frozen foods'\", \"'bread and cake'\", 'fruit'): 0.569746043430254, (\"'frozen foods'\", \"'bread and cake'\", 'vegetables'): 0.569746043430254, (\"'frozen foods'\", \"'baking needs'\", \"'bread and cake'\"): 0.5465587044534413, (\"'frozen foods'\", 'biscuits', \"'bread and cake'\"): 0.55576002944424, (\"'frozen foods'\", 'milk-cream', \"'bread and cake'\"): 0.5579683474420316, (\"'frozen foods'\", 'fruit', \"'bread and cake'\"): 0.569746043430254, (\"'frozen foods'\", 'fruit', 'vegetables'): 0.5340449024659552, (\"'frozen foods'\", 'vegetables', \"'bread and cake'\"): 0.569746043430254, (\"'frozen foods'\", 'vegetables', 'fruit'): 0.5340449024659552, ('milk-cream', \"'bread and cake'\", \"'baking needs'\"): 0.5375978223885676, ('milk-cream', \"'bread and cake'\", 'biscuits'): 0.5052739026879891, ('milk-cream', \"'bread and cake'\", \"'frozen foods'\"): 0.5158217080639673, ('milk-cream', \"'bread and cake'\", 'fruit'): 0.5729840081660429, ('milk-cream', \"'bread and cake'\", 'vegetables'): 0.5641374617216741, ('milk-cream', \"'baking needs'\", \"'bread and cake'\"): 0.5375978223885676, ('milk-cream', \"'baking needs'\", 'vegetables'): 0.4736304865600545, ('milk-cream', 'biscuits', \"'bread and cake'\"): 0.5052739026879891, ('milk-cream', \"'frozen foods'\", \"'bread and cake'\"): 0.5158217080639673, ('milk-cream', 'fruit', \"'bread and cake'\"): 0.5729840081660429, ('milk-cream', 'fruit', 'vegetables'): 0.5345355563116707, ('milk-cream', 'vegetables', \"'bread and cake'\"): 0.5641374617216741, ('milk-cream', 'vegetables', \"'baking needs'\"): 0.4736304865600545, ('milk-cream', 'vegetables', 'fruit'): 0.5345355563116707, ('fruit', \"'bread and cake'\", \"'baking needs'\"): 0.5280216070222823, ('fruit', \"'bread and cake'\", 'biscuits'): 0.5202565833896017, ('fruit', \"'bread and cake'\", \"'frozen foods'\"): 0.5226198514517219, ('fruit', \"'bread and cake'\", 'milk-cream'): 0.5685347738014855, ('fruit', \"'bread and cake'\", 'vegetables'): 0.6046590141796083, ('fruit', \"'baking needs'\", \"'bread and cake'\"): 0.5280216070222823, ('fruit', \"'baking needs'\", 'vegetables'): 0.5027008777852803, ('fruit', 'biscuits', \"'bread and cake'\"): 0.5202565833896017, ('fruit', 'biscuits', 'vegetables'): 0.47400405131667794, ('fruit', \"'frozen foods'\", \"'bread and cake'\"): 0.5226198514517219, ('fruit', \"'frozen foods'\", 'vegetables'): 0.48987170830519927, ('fruit', 'milk-cream', \"'bread and cake'\"): 0.5685347738014855, ('fruit', 'milk-cream', 'vegetables'): 0.5303848750844025, ('fruit', 'vegetables', \"'bread and cake'\"): 0.6046590141796083, ('fruit', 'vegetables', \"'baking needs'\"): 0.5027008777852803, ('fruit', 'vegetables', 'biscuits'): 0.47400405131667794, ('fruit', 'vegetables', \"'frozen foods'\"): 0.48987170830519927, ('fruit', 'vegetables', 'milk-cream'): 0.5303848750844025, ('vegetables', \"'bread and cake'\", \"'baking needs'\"): 0.5356298547787909, ('vegetables', \"'bread and cake'\", 'biscuits'): 0.5021952043228639, ('vegetables', \"'bread and cake'\", \"'frozen foods'\"): 0.5227963525835866, ('vegetables', \"'bread and cake'\", 'milk-cream'): 0.5599459642012834, ('vegetables', \"'bread and cake'\", 'fruit'): 0.6048632218844984, ('vegetables', \"'baking needs'\", \"'bread and cake'\"): 0.5356298547787909, ('vegetables', \"'baking needs'\", 'milk-cream'): 0.4701114488348531, ('vegetables', \"'baking needs'\", 'fruit'): 0.502870651806822, ('vegetables', 'biscuits', \"'bread and cake'\"): 0.5021952043228639, ('vegetables', 'biscuits', 'fruit'): 0.4741641337386018, ('vegetables', \"'frozen foods'\", \"'bread and cake'\"): 0.5227963525835866, ('vegetables', \"'frozen foods'\", 'fruit'): 0.4900371496116177, ('vegetables', 'milk-cream', \"'bread and cake'\"): 0.5599459642012834, ('vegetables', 'milk-cream', \"'baking needs'\"): 0.4701114488348531, ('vegetables', 'milk-cream', 'fruit'): 0.5305639986491051, ('vegetables', 'fruit', \"'bread and cake'\"): 0.6048632218844984, ('vegetables', 'fruit', \"'baking needs'\"): 0.502870651806822, ('vegetables', 'fruit', 'biscuits'): 0.4741641337386018, ('vegetables', 'fruit', \"'frozen foods'\"): 0.4900371496116177, ('vegetables', 'fruit', 'milk-cream'): 0.5305639986491051, (\"'bread and cake'\", \"'baking needs'\", 'milk-cream', 'fruit'): 0.34864864864864864, (\"'bread and cake'\", \"'baking needs'\", 'milk-cream', 'vegetables'): 0.3510510510510511, (\"'bread and cake'\", \"'baking needs'\", 'fruit', 'milk-cream'): 0.34864864864864864, (\"'bread and cake'\", \"'baking needs'\", 'fruit', 'vegetables'): 0.3768768768768769, (\"'bread and cake'\", \"'baking needs'\", 'vegetables', 'milk-cream'): 0.3510510510510511, (\"'bread and cake'\", \"'baking needs'\", 'vegetables', 'fruit'): 0.3768768768768769, (\"'bread and cake'\", 'biscuits', 'fruit', 'vegetables'): 0.3651651651651652, (\"'bread and cake'\", 'biscuits', 'vegetables', 'fruit'): 0.3651651651651652, (\"'bread and cake'\", \"'frozen foods'\", 'fruit', 'vegetables'): 0.372972972972973, (\"'bread and cake'\", \"'frozen foods'\", 'vegetables', 'fruit'): 0.372972972972973, (\"'bread and cake'\", 'milk-cream', \"'baking needs'\", 'fruit'): 0.34864864864864864, (\"'bread and cake'\", 'milk-cream', \"'baking needs'\", 'vegetables'): 0.3510510510510511, (\"'bread and cake'\", 'milk-cream', 'fruit', \"'baking needs'\"): 0.34864864864864864, (\"'bread and cake'\", 'milk-cream', 'fruit', 'vegetables'): 0.3936936936936937, (\"'bread and cake'\", 'milk-cream', 'vegetables', \"'baking needs'\"): 0.3510510510510511, (\"'bread and cake'\", 'milk-cream', 'vegetables', 'fruit'): 0.3936936936936937, (\"'bread and cake'\", 'fruit', \"'baking needs'\", 'milk-cream'): 0.34864864864864864, (\"'bread and cake'\", 'fruit', \"'baking needs'\", 'vegetables'): 0.3768768768768769, (\"'bread and cake'\", 'fruit', 'biscuits', 'vegetables'): 0.3651651651651652, (\"'bread and cake'\", 'fruit', \"'frozen foods'\", 'vegetables'): 0.372972972972973, (\"'bread and cake'\", 'fruit', 'milk-cream', \"'baking needs'\"): 0.34864864864864864, (\"'bread and cake'\", 'fruit', 'milk-cream', 'vegetables'): 0.3936936936936937, (\"'bread and cake'\", 'fruit', 'vegetables', \"'baking needs'\"): 0.3768768768768769, (\"'bread and cake'\", 'fruit', 'vegetables', 'biscuits'): 0.3651651651651652, (\"'bread and cake'\", 'fruit', 'vegetables', \"'frozen foods'\"): 0.372972972972973, (\"'bread and cake'\", 'fruit', 'vegetables', 'milk-cream'): 0.3936936936936937, (\"'bread and cake'\", 'vegetables', \"'baking needs'\", 'milk-cream'): 0.3510510510510511, (\"'bread and cake'\", 'vegetables', \"'baking needs'\", 'fruit'): 0.3768768768768769, (\"'bread and cake'\", 'vegetables', 'biscuits', 'fruit'): 0.3651651651651652, (\"'bread and cake'\", 'vegetables', \"'frozen foods'\", 'fruit'): 0.372972972972973, (\"'bread and cake'\", 'vegetables', 'milk-cream', \"'baking needs'\"): 0.3510510510510511, (\"'bread and cake'\", 'vegetables', 'milk-cream', 'fruit'): 0.3936936936936937, (\"'bread and cake'\", 'vegetables', 'fruit', \"'baking needs'\"): 0.3768768768768769, (\"'bread and cake'\", 'vegetables', 'fruit', 'biscuits'): 0.3651651651651652, (\"'bread and cake'\", 'vegetables', 'fruit', \"'frozen foods'\"): 0.372972972972973, (\"'bread and cake'\", 'vegetables', 'fruit', 'milk-cream'): 0.3936936936936937, (\"'baking needs'\", \"'bread and cake'\", 'milk-cream', 'fruit'): 0.41538461538461535, (\"'baking needs'\", \"'bread and cake'\", 'milk-cream', 'vegetables'): 0.41824686940966016, (\"'baking needs'\", \"'bread and cake'\", 'fruit', 'milk-cream'): 0.41538461538461535, (\"'baking needs'\", \"'bread and cake'\", 'fruit', 'vegetables'): 0.4490161001788909, (\"'baking needs'\", \"'bread and cake'\", 'vegetables', 'milk-cream'): 0.41824686940966016, (\"'baking needs'\", \"'bread and cake'\", 'vegetables', 'fruit'): 0.4490161001788909, (\"'baking needs'\", 'milk-cream', \"'bread and cake'\", 'fruit'): 0.41538461538461535, (\"'baking needs'\", 'milk-cream', \"'bread and cake'\", 'vegetables'): 0.41824686940966016, (\"'baking needs'\", 'milk-cream', 'vegetables', \"'bread and cake'\"): 0.41824686940966016, (\"'baking needs'\", 'fruit', \"'bread and cake'\", 'milk-cream'): 0.41538461538461535, (\"'baking needs'\", 'fruit', \"'bread and cake'\", 'vegetables'): 0.4490161001788909, (\"'baking needs'\", 'fruit', 'vegetables', \"'bread and cake'\"): 0.4490161001788909, (\"'baking needs'\", 'vegetables', \"'bread and cake'\", 'milk-cream'): 0.41824686940966016, (\"'baking needs'\", 'vegetables', \"'bread and cake'\", 'fruit'): 0.4490161001788909, (\"'baking needs'\", 'vegetables', 'milk-cream', \"'bread and cake'\"): 0.41824686940966016, (\"'baking needs'\", 'vegetables', 'fruit', \"'bread and cake'\"): 0.4490161001788909, ('biscuits', \"'bread and cake'\", 'fruit', 'vegetables'): 0.4667946257197697, ('biscuits', \"'bread and cake'\", 'vegetables', 'fruit'): 0.4667946257197697, ('biscuits', 'fruit', \"'bread and cake'\", 'vegetables'): 0.4667946257197697, ('biscuits', 'fruit', 'vegetables', \"'bread and cake'\"): 0.4667946257197697, ('biscuits', 'vegetables', \"'bread and cake'\", 'fruit'): 0.4667946257197697, ('biscuits', 'vegetables', 'fruit', \"'bread and cake'\"): 0.4667946257197697, (\"'frozen foods'\", \"'bread and cake'\", 'fruit', 'vegetables'): 0.45712182554287817, (\"'frozen foods'\", \"'bread and cake'\", 'vegetables', 'fruit'): 0.45712182554287817, (\"'frozen foods'\", 'fruit', \"'bread and cake'\", 'vegetables'): 0.45712182554287817, (\"'frozen foods'\", 'fruit', 'vegetables', \"'bread and cake'\"): 0.45712182554287817, (\"'frozen foods'\", 'vegetables', \"'bread and cake'\", 'fruit'): 0.45712182554287817, (\"'frozen foods'\", 'vegetables', 'fruit', \"'bread and cake'\"): 0.45712182554287817, ('milk-cream', \"'bread and cake'\", \"'baking needs'\", 'fruit'): 0.39503232391970056, ('milk-cream', \"'bread and cake'\", \"'baking needs'\", 'vegetables'): 0.39775433821027567, ('milk-cream', \"'bread and cake'\", 'fruit', \"'baking needs'\"): 0.39503232391970056, ('milk-cream', \"'bread and cake'\", 'fruit', 'vegetables'): 0.44607009186798235, ('milk-cream', \"'bread and cake'\", 'vegetables', \"'baking needs'\"): 0.39775433821027567, ('milk-cream', \"'bread and cake'\", 'vegetables', 'fruit'): 0.44607009186798235, ('milk-cream', \"'baking needs'\", \"'bread and cake'\", 'fruit'): 0.39503232391970056, ('milk-cream', \"'baking needs'\", \"'bread and cake'\", 'vegetables'): 0.39775433821027567, ('milk-cream', \"'baking needs'\", 'vegetables', \"'bread and cake'\"): 0.39775433821027567, ('milk-cream', 'fruit', \"'bread and cake'\", \"'baking needs'\"): 0.39503232391970056, ('milk-cream', 'fruit', \"'bread and cake'\", 'vegetables'): 0.44607009186798235, ('milk-cream', 'fruit', 'vegetables', \"'bread and cake'\"): 0.44607009186798235, ('milk-cream', 'vegetables', \"'bread and cake'\", \"'baking needs'\"): 0.39775433821027567, ('milk-cream', 'vegetables', \"'bread and cake'\", 'fruit'): 0.44607009186798235, ('milk-cream', 'vegetables', \"'baking needs'\", \"'bread and cake'\"): 0.39775433821027567, ('milk-cream', 'vegetables', 'fruit', \"'bread and cake'\"): 0.44607009186798235, ('fruit', \"'bread and cake'\", \"'baking needs'\", 'milk-cream'): 0.39196488858879136, ('fruit', \"'bread and cake'\", \"'baking needs'\", 'vegetables'): 0.4237002025658339, ('fruit', \"'bread and cake'\", 'biscuits', 'vegetables'): 0.41053342336259285, ('fruit', \"'bread and cake'\", \"'frozen foods'\", 'vegetables'): 0.41931127616475355, ('fruit', \"'bread and cake'\", 'milk-cream', \"'baking needs'\"): 0.39196488858879136, ('fruit', \"'bread and cake'\", 'milk-cream', 'vegetables'): 0.44260634706279545, ('fruit', \"'bread and cake'\", 'vegetables', \"'baking needs'\"): 0.4237002025658339, ('fruit', \"'bread and cake'\", 'vegetables', 'biscuits'): 0.41053342336259285, ('fruit', \"'bread and cake'\", 'vegetables', \"'frozen foods'\"): 0.41931127616475355, ('fruit', \"'bread and cake'\", 'vegetables', 'milk-cream'): 0.44260634706279545, ('fruit', \"'baking needs'\", \"'bread and cake'\", 'milk-cream'): 0.39196488858879136, ('fruit', \"'baking needs'\", \"'bread and cake'\", 'vegetables'): 0.4237002025658339, ('fruit', \"'baking needs'\", 'vegetables', \"'bread and cake'\"): 0.4237002025658339, ('fruit', 'biscuits', \"'bread and cake'\", 'vegetables'): 0.41053342336259285, ('fruit', 'biscuits', 'vegetables', \"'bread and cake'\"): 0.41053342336259285, ('fruit', \"'frozen foods'\", \"'bread and cake'\", 'vegetables'): 0.41931127616475355, ('fruit', \"'frozen foods'\", 'vegetables', \"'bread and cake'\"): 0.41931127616475355, ('fruit', 'milk-cream', \"'bread and cake'\", \"'baking needs'\"): 0.39196488858879136, ('fruit', 'milk-cream', \"'bread and cake'\", 'vegetables'): 0.44260634706279545, ('fruit', 'milk-cream', 'vegetables', \"'bread and cake'\"): 0.44260634706279545, ('fruit', 'vegetables', \"'bread and cake'\", \"'baking needs'\"): 0.4237002025658339, ('fruit', 'vegetables', \"'bread and cake'\", 'biscuits'): 0.41053342336259285, ('fruit', 'vegetables', \"'bread and cake'\", \"'frozen foods'\"): 0.41931127616475355, ('fruit', 'vegetables', \"'bread and cake'\", 'milk-cream'): 0.44260634706279545, ('fruit', 'vegetables', \"'baking needs'\", \"'bread and cake'\"): 0.4237002025658339, ('fruit', 'vegetables', 'biscuits', \"'bread and cake'\"): 0.41053342336259285, ('fruit', 'vegetables', \"'frozen foods'\", \"'bread and cake'\"): 0.41931127616475355, ('fruit', 'vegetables', 'milk-cream', \"'bread and cake'\"): 0.44260634706279545, ('vegetables', \"'bread and cake'\", \"'baking needs'\", 'milk-cream'): 0.3947990543735225, ('vegetables', \"'bread and cake'\", \"'baking needs'\", 'fruit'): 0.4238432961837217, ('vegetables', \"'bread and cake'\", 'biscuits', 'fruit'): 0.41067207024653835, ('vegetables', \"'bread and cake'\", \"'frozen foods'\", 'fruit'): 0.41945288753799387, ('vegetables', \"'bread and cake'\", 'milk-cream', \"'baking needs'\"): 0.3947990543735225, ('vegetables', \"'bread and cake'\", 'milk-cream', 'fruit'): 0.44275582573454914, ('vegetables', \"'bread and cake'\", 'fruit', \"'baking needs'\"): 0.4238432961837217, ('vegetables', \"'bread and cake'\", 'fruit', 'biscuits'): 0.41067207024653835, ('vegetables', \"'bread and cake'\", 'fruit', \"'frozen foods'\"): 0.41945288753799387, ('vegetables', \"'bread and cake'\", 'fruit', 'milk-cream'): 0.44275582573454914, ('vegetables', \"'baking needs'\", \"'bread and cake'\", 'milk-cream'): 0.3947990543735225, ('vegetables', \"'baking needs'\", \"'bread and cake'\", 'fruit'): 0.4238432961837217, ('vegetables', \"'baking needs'\", 'milk-cream', \"'bread and cake'\"): 0.3947990543735225, ('vegetables', \"'baking needs'\", 'fruit', \"'bread and cake'\"): 0.4238432961837217, ('vegetables', 'biscuits', \"'bread and cake'\", 'fruit'): 0.41067207024653835, ('vegetables', 'biscuits', 'fruit', \"'bread and cake'\"): 0.41067207024653835, ('vegetables', \"'frozen foods'\", \"'bread and cake'\", 'fruit'): 0.41945288753799387, ('vegetables', \"'frozen foods'\", 'fruit', \"'bread and cake'\"): 0.41945288753799387, ('vegetables', 'milk-cream', \"'bread and cake'\", \"'baking needs'\"): 0.3947990543735225, ('vegetables', 'milk-cream', \"'bread and cake'\", 'fruit'): 0.44275582573454914, ('vegetables', 'milk-cream', \"'baking needs'\", \"'bread and cake'\"): 0.3947990543735225, ('vegetables', 'milk-cream', 'fruit', \"'bread and cake'\"): 0.44275582573454914, ('vegetables', 'fruit', \"'bread and cake'\", \"'baking needs'\"): 0.4238432961837217, ('vegetables', 'fruit', \"'bread and cake'\", 'biscuits'): 0.41067207024653835, ('vegetables', 'fruit', \"'bread and cake'\", \"'frozen foods'\"): 0.41945288753799387, ('vegetables', 'fruit', \"'bread and cake'\", 'milk-cream'): 0.44275582573454914, ('vegetables', 'fruit', \"'baking needs'\", \"'bread and cake'\"): 0.4238432961837217, ('vegetables', 'fruit', 'biscuits', \"'bread and cake'\"): 0.41067207024653835, ('vegetables', 'fruit', \"'frozen foods'\", \"'bread and cake'\"): 0.41945288753799387, ('vegetables', 'fruit', 'milk-cream', \"'bread and cake'\"): 0.44275582573454914}\n"
          ]
        }
      ]
    },
    {
      "cell_type": "markdown",
      "source": [
        "#LIFTS"
      ],
      "metadata": {
        "id": "cfj0PlH88pB3"
      }
    },
    {
      "cell_type": "markdown",
      "source": [
        "##LIFT 2 COLUNAS"
      ],
      "metadata": {
        "id": "-JVbs4XwJYff"
      }
    },
    {
      "cell_type": "code",
      "source": [
        "lift = {}\n",
        "\n",
        "for coluna1 in lista_suporte1:\n",
        "  for coluna2 in lista_suporte1:\n",
        "    if (coluna1, coluna2) in suporte2 and (coluna1) in suporte1 and (coluna2) in suporte1:\n",
        "      suporte_colunas = suporte2[(coluna1), (coluna2)]\n",
        "      suporte_coluna1 = suporte1[coluna1]\n",
        "      suporte_coluna2 = suporte1[coluna2]\n",
        "\n",
        "      numerador = suporte_colunas\n",
        "      denominador = suporte_coluna1 * suporte_coluna2\n",
        "\n",
        "      if denominador != 0:\n",
        "        lift_value = numerador / denominador\n",
        "\n",
        "        if lift_value > lift2_min:\n",
        "          lift[(coluna1), (coluna2)] = lift_value\n",
        "\n",
        "print(\"Lift: \", lift)"
      ],
      "metadata": {
        "colab": {
          "base_uri": "https://localhost:8080/"
        },
        "id": "2cKNbJRLKnLI",
        "outputId": "f87bf7e9-d242-4b45-c8ec-ae2eb7ae3946"
      },
      "execution_count": null,
      "outputs": [
        {
          "output_type": "stream",
          "name": "stdout",
          "text": [
            "Lift:  {(\"'bread and cake'\", 'biscuits'): 1.1110581983134766, (\"'bread and cake'\", 'milk-cream'): 1.1048781684031772, (\"'bread and cake'\", 'margarine'): 1.111955968205968, (\"'baking needs'\", 'biscuits'): 1.1210075573669736, (\"'baking needs'\", \"'frozen foods'\"): 1.1180574439212987, (\"'baking needs'\", 'margarine'): 1.1902208927030036, ('biscuits', \"'bread and cake'\"): 1.1110581983134766, ('biscuits', \"'baking needs'\"): 1.1210075573669736, ('biscuits', \"'frozen foods'\"): 1.183261429953015, ('biscuits', 'fruit'): 1.10157957286214, (\"'frozen foods'\", \"'baking needs'\"): 1.1180574439212987, (\"'frozen foods'\", 'biscuits'): 1.183261429953015, ('milk-cream', \"'bread and cake'\"): 1.1048781684031772, ('margarine', \"'bread and cake'\"): 1.111955968205968, ('margarine', \"'baking needs'\"): 1.1902208927030036, ('fruit', 'biscuits'): 1.10157957286214, ('fruit', 'vegetables'): 1.1643361220056092, ('vegetables', 'fruit'): 1.1643361220056092}\n"
          ]
        }
      ]
    },
    {
      "cell_type": "markdown",
      "source": [
        "##LIFT 3 COLUNAS"
      ],
      "metadata": {
        "id": "wjUHh-zB97jA"
      }
    },
    {
      "cell_type": "code",
      "source": [
        "\n",
        "for coluna1 in lista_suporte1:\n",
        "  for coluna2 in lista_suporte1:\n",
        "    for coluna3 in lista_suporte1:\n",
        "      if (coluna1, coluna2, coluna3) in suporte3 and (coluna1) in suporte1 and (coluna2) in suporte1 and (coluna3) in suporte1:\n",
        "        suporte_colunas = suporte3[(coluna1), (coluna2), (coluna3)]\n",
        "        suporte_coluna1 = suporte1[coluna1]\n",
        "        suporte_coluna2 = suporte1[coluna2]\n",
        "        suporte_coluna3 = suporte1[coluna3]\n",
        "\n",
        "        numerador = suporte_colunas\n",
        "        denominador = suporte_coluna1 * suporte_coluna2 * suporte_coluna3\n",
        "\n",
        "        if denominador != 0:\n",
        "          lift_value = numerador / denominador\n",
        "\n",
        "          if lift_value > lift3_min:\n",
        "            lift[(coluna1), (coluna2), (coluna3)] = lift_value\n",
        "\n",
        "print(\"Lift: \", lift)"
      ],
      "metadata": {
        "colab": {
          "base_uri": "https://localhost:8080/"
        },
        "id": "mLI7-jP59-TK",
        "outputId": "3d1c8f6d-c2cd-4500-d848-dde2108d40ae"
      },
      "execution_count": null,
      "outputs": [
        {
          "output_type": "stream",
          "name": "stdout",
          "text": [
            "Lift:  {(\"'bread and cake'\", 'biscuits'): 1.1110581983134766, (\"'bread and cake'\", 'milk-cream'): 1.1048781684031772, (\"'bread and cake'\", 'margarine'): 1.111955968205968, (\"'baking needs'\", 'biscuits'): 1.1210075573669736, (\"'baking needs'\", \"'frozen foods'\"): 1.1180574439212987, (\"'baking needs'\", 'margarine'): 1.1902208927030036, ('biscuits', \"'bread and cake'\"): 1.1110581983134766, ('biscuits', \"'baking needs'\"): 1.1210075573669736, ('biscuits', \"'frozen foods'\"): 1.183261429953015, ('biscuits', 'fruit'): 1.10157957286214, (\"'frozen foods'\", \"'baking needs'\"): 1.1180574439212987, (\"'frozen foods'\", 'biscuits'): 1.183261429953015, ('milk-cream', \"'bread and cake'\"): 1.1048781684031772, ('margarine', \"'bread and cake'\"): 1.111955968205968, ('margarine', \"'baking needs'\"): 1.1902208927030036, ('fruit', 'biscuits'): 1.10157957286214, ('fruit', 'vegetables'): 1.1643361220056092, ('vegetables', 'fruit'): 1.1643361220056092, (\"'bread and cake'\", \"'baking needs'\", 'biscuits'): 1.2856613867807014, (\"'bread and cake'\", \"'baking needs'\", \"'frozen foods'\"): 1.257215620957265, (\"'bread and cake'\", \"'baking needs'\", 'milk-cream'): 1.236603450996893, (\"'bread and cake'\", \"'baking needs'\", 'fruit'): 1.2145758674088059, (\"'bread and cake'\", \"'baking needs'\", 'vegetables'): 1.2320766552467033, (\"'bread and cake'\", 'biscuits', \"'baking needs'\"): 1.2856613867807014, (\"'bread and cake'\", 'biscuits', \"'frozen foods'\"): 1.3716216980991203, (\"'bread and cake'\", 'biscuits', 'milk-cream'): 1.2470213971722903, (\"'bread and cake'\", 'biscuits', 'fruit'): 1.2839988134261602, (\"'bread and cake'\", 'biscuits', 'vegetables'): 1.2394231366717448, (\"'bread and cake'\", \"'frozen foods'\", \"'baking needs'\"): 1.257215620957265, (\"'bread and cake'\", \"'frozen foods'\", 'biscuits'): 1.3716216980991203, (\"'bread and cake'\", \"'frozen foods'\", 'milk-cream'): 1.2205757640903863, (\"'bread and cake'\", \"'frozen foods'\", 'fruit'): 1.2366620375646997, (\"'bread and cake'\", \"'frozen foods'\", 'vegetables'): 1.2370796876955894, (\"'bread and cake'\", 'milk-cream', \"'baking needs'\"): 1.236603450996893, (\"'bread and cake'\", 'milk-cream', 'biscuits'): 1.2470213971722903, (\"'bread and cake'\", 'milk-cream', \"'frozen foods'\"): 1.2205757640903863, (\"'bread and cake'\", 'milk-cream', 'fruit'): 1.2436902005750385, (\"'bread and cake'\", 'milk-cream', 'vegetables'): 1.2249018716519848, (\"'bread and cake'\", 'fruit', \"'baking needs'\"): 1.2145758674088059, (\"'bread and cake'\", 'fruit', 'biscuits'): 1.2839988134261602, (\"'bread and cake'\", 'fruit', \"'frozen foods'\"): 1.2366620375646995, (\"'bread and cake'\", 'fruit', 'milk-cream'): 1.2436902005750385, (\"'bread and cake'\", 'fruit', 'vegetables'): 1.3128856146505232, (\"'bread and cake'\", 'vegetables', \"'baking needs'\"): 1.2320766552467028, (\"'bread and cake'\", 'vegetables', 'biscuits'): 1.2394231366717448, (\"'bread and cake'\", 'vegetables', \"'frozen foods'\"): 1.2370796876955892, (\"'bread and cake'\", 'vegetables', 'milk-cream'): 1.2249018716519846, (\"'bread and cake'\", 'vegetables', 'fruit'): 1.3128856146505232, (\"'baking needs'\", \"'bread and cake'\", 'biscuits'): 1.2856613867807014, (\"'baking needs'\", \"'bread and cake'\", \"'frozen foods'\"): 1.257215620957265, (\"'baking needs'\", \"'bread and cake'\", 'milk-cream'): 1.236603450996893, (\"'baking needs'\", \"'bread and cake'\", 'fruit'): 1.2145758674088059, (\"'baking needs'\", \"'bread and cake'\", 'vegetables'): 1.2320766552467033, (\"'baking needs'\", 'biscuits', \"'bread and cake'\"): 1.2856613867807014, (\"'baking needs'\", \"'frozen foods'\", \"'bread and cake'\"): 1.257215620957265, (\"'baking needs'\", 'milk-cream', \"'bread and cake'\"): 1.236603450996893, (\"'baking needs'\", 'milk-cream', 'vegetables'): 1.2252322754057938, (\"'baking needs'\", 'fruit', \"'bread and cake'\"): 1.2145758674088059, (\"'baking needs'\", 'fruit', 'vegetables'): 1.300434321301342, (\"'baking needs'\", 'vegetables', \"'bread and cake'\"): 1.2320766552467028, (\"'baking needs'\", 'vegetables', 'milk-cream'): 1.2252322754057938, (\"'baking needs'\", 'vegetables', 'fruit'): 1.3004343213013418, ('biscuits', \"'bread and cake'\", \"'baking needs'\"): 1.2856613867807014, ('biscuits', \"'bread and cake'\", \"'frozen foods'\"): 1.3716216980991203, ('biscuits', \"'bread and cake'\", 'milk-cream'): 1.2470213971722903, ('biscuits', \"'bread and cake'\", 'fruit'): 1.2839988134261602, ('biscuits', \"'bread and cake'\", 'vegetables'): 1.2394231366717448, ('biscuits', \"'baking needs'\", \"'bread and cake'\"): 1.2856613867807014, ('biscuits', \"'frozen foods'\", \"'bread and cake'\"): 1.3716216980991203, ('biscuits', 'milk-cream', \"'bread and cake'\"): 1.2470213971722903, ('biscuits', 'fruit', \"'bread and cake'\"): 1.2839988134261604, ('biscuits', 'fruit', 'vegetables'): 1.3156334823805282, ('biscuits', 'vegetables', \"'bread and cake'\"): 1.2394231366717448, ('biscuits', 'vegetables', 'fruit'): 1.3156334823805282, (\"'frozen foods'\", \"'bread and cake'\", \"'baking needs'\"): 1.257215620957265, (\"'frozen foods'\", \"'bread and cake'\", 'biscuits'): 1.3716216980991203, (\"'frozen foods'\", \"'bread and cake'\", 'milk-cream'): 1.2205757640903863, (\"'frozen foods'\", \"'bread and cake'\", 'fruit'): 1.2366620375646997, (\"'frozen foods'\", \"'bread and cake'\", 'vegetables'): 1.2370796876955894, (\"'frozen foods'\", \"'baking needs'\", \"'bread and cake'\"): 1.257215620957265, (\"'frozen foods'\", 'biscuits', \"'bread and cake'\"): 1.3716216980991203, (\"'frozen foods'\", 'milk-cream', \"'bread and cake'\"): 1.220575764090386, (\"'frozen foods'\", 'fruit', \"'bread and cake'\"): 1.2366620375646995, (\"'frozen foods'\", 'fruit', 'vegetables'): 1.3036268940163211, (\"'frozen foods'\", 'vegetables', \"'bread and cake'\"): 1.2370796876955894, (\"'frozen foods'\", 'vegetables', 'fruit'): 1.3036268940163211, ('milk-cream', \"'bread and cake'\", \"'baking needs'\"): 1.236603450996893, ('milk-cream', \"'bread and cake'\", 'biscuits'): 1.2470213971722903, ('milk-cream', \"'bread and cake'\", \"'frozen foods'\"): 1.2205757640903863, ('milk-cream', \"'bread and cake'\", 'fruit'): 1.2436902005750385, ('milk-cream', \"'bread and cake'\", 'vegetables'): 1.2249018716519848, ('milk-cream', \"'baking needs'\", \"'bread and cake'\"): 1.236603450996893, ('milk-cream', \"'baking needs'\", 'vegetables'): 1.2252322754057938, ('milk-cream', 'biscuits', \"'bread and cake'\"): 1.2470213971722903, ('milk-cream', \"'frozen foods'\", \"'bread and cake'\"): 1.220575764090386, ('milk-cream', 'fruit', \"'bread and cake'\"): 1.243690200575038, ('milk-cream', 'fruit', 'vegetables'): 1.304824601448737, ('milk-cream', 'vegetables', \"'bread and cake'\"): 1.2249018716519848, ('milk-cream', 'vegetables', \"'baking needs'\"): 1.225232275405794, ('milk-cream', 'vegetables', 'fruit'): 1.304824601448737, ('fruit', \"'bread and cake'\", \"'baking needs'\"): 1.2145758674088059, ('fruit', \"'bread and cake'\", 'biscuits'): 1.2839988134261602, ('fruit', \"'bread and cake'\", \"'frozen foods'\"): 1.2366620375646995, ('fruit', \"'bread and cake'\", 'milk-cream'): 1.2436902005750385, ('fruit', \"'bread and cake'\", 'vegetables'): 1.3128856146505232, ('fruit', \"'baking needs'\", \"'bread and cake'\"): 1.2145758674088059, ('fruit', \"'baking needs'\", 'vegetables'): 1.300434321301342, ('fruit', 'biscuits', \"'bread and cake'\"): 1.2839988134261604, ('fruit', 'biscuits', 'vegetables'): 1.3156334823805282, ('fruit', \"'frozen foods'\", \"'bread and cake'\"): 1.2366620375646995, ('fruit', \"'frozen foods'\", 'vegetables'): 1.3036268940163211, ('fruit', 'milk-cream', \"'bread and cake'\"): 1.243690200575038, ('fruit', 'milk-cream', 'vegetables'): 1.304824601448737, ('fruit', 'vegetables', \"'bread and cake'\"): 1.3128856146505232, ('fruit', 'vegetables', \"'baking needs'\"): 1.3004343213013418, ('fruit', 'vegetables', 'biscuits'): 1.315633482380528, ('fruit', 'vegetables', \"'frozen foods'\"): 1.3036268940163211, ('fruit', 'vegetables', 'milk-cream'): 1.304824601448737, ('vegetables', \"'bread and cake'\", \"'baking needs'\"): 1.2320766552467028, ('vegetables', \"'bread and cake'\", 'biscuits'): 1.2394231366717448, ('vegetables', \"'bread and cake'\", \"'frozen foods'\"): 1.2370796876955892, ('vegetables', \"'bread and cake'\", 'milk-cream'): 1.2249018716519846, ('vegetables', \"'bread and cake'\", 'fruit'): 1.3128856146505232, ('vegetables', \"'baking needs'\", \"'bread and cake'\"): 1.2320766552467028, ('vegetables', \"'baking needs'\", 'milk-cream'): 1.2252322754057938, ('vegetables', \"'baking needs'\", 'fruit'): 1.3004343213013418, ('vegetables', 'biscuits', \"'bread and cake'\"): 1.2394231366717448, ('vegetables', 'biscuits', 'fruit'): 1.3156334823805282, ('vegetables', \"'frozen foods'\", \"'bread and cake'\"): 1.2370796876955894, ('vegetables', \"'frozen foods'\", 'fruit'): 1.3036268940163211, ('vegetables', 'milk-cream', \"'bread and cake'\"): 1.2249018716519848, ('vegetables', 'milk-cream', \"'baking needs'\"): 1.225232275405794, ('vegetables', 'milk-cream', 'fruit'): 1.304824601448737, ('vegetables', 'fruit', \"'bread and cake'\"): 1.3128856146505232, ('vegetables', 'fruit', \"'baking needs'\"): 1.3004343213013418, ('vegetables', 'fruit', 'biscuits'): 1.315633482380528, ('vegetables', 'fruit', \"'frozen foods'\"): 1.3036268940163211, ('vegetables', 'fruit', 'milk-cream'): 1.304824601448737}\n"
          ]
        }
      ]
    },
    {
      "cell_type": "markdown",
      "source": [
        "##LIFT 4 COLUNAS"
      ],
      "metadata": {
        "id": "cgiUoCI6cqMk"
      }
    },
    {
      "cell_type": "code",
      "source": [
        "\n",
        "for coluna1 in lista_suporte1:\n",
        "  for coluna2 in lista_suporte1:\n",
        "    for coluna3 in lista_suporte1:\n",
        "      for coluna4 in lista_suporte1:\n",
        "        if (coluna1, coluna2, coluna3, coluna4) in suporte4 and (coluna1) in suporte1 and (coluna2) in suporte1 and (coluna3) in suporte1 and (coluna4) in suporte1:\n",
        "          suporte_colunas = suporte4[(coluna1), (coluna2), (coluna3), (coluna4)]\n",
        "          suporte_coluna1 = suporte1[coluna1]\n",
        "          suporte_coluna2 = suporte1[coluna2]\n",
        "          suporte_coluna3 = suporte1[coluna3]\n",
        "          suporte_coluna4 = suporte1[coluna4]\n",
        "\n",
        "          numerador = suporte_colunas\n",
        "          denominador = suporte_coluna1 * suporte_coluna2 * suporte_coluna3 * suporte_coluna4\n",
        "\n",
        "          if denominador != 0:\n",
        "            lift_value = numerador / denominador\n",
        "\n",
        "            if lift_value > lift4_min:\n",
        "              lift[(coluna1), (coluna2), (coluna3), (coluna4)] = lift_value\n",
        "\n",
        "print(\"Lift: \", lift)"
      ],
      "metadata": {
        "colab": {
          "base_uri": "https://localhost:8080/"
        },
        "id": "BbVhTP4jcGiK",
        "outputId": "1425c2b7-71a8-468b-d8fe-8b978a7f404e"
      },
      "execution_count": null,
      "outputs": [
        {
          "output_type": "stream",
          "name": "stdout",
          "text": [
            "Lift:  {(\"'bread and cake'\", 'biscuits'): 1.1110581983134766, (\"'bread and cake'\", 'milk-cream'): 1.1048781684031772, (\"'bread and cake'\", 'margarine'): 1.111955968205968, (\"'baking needs'\", 'biscuits'): 1.1210075573669736, (\"'baking needs'\", \"'frozen foods'\"): 1.1180574439212987, (\"'baking needs'\", 'margarine'): 1.1902208927030036, ('biscuits', \"'bread and cake'\"): 1.1110581983134766, ('biscuits', \"'baking needs'\"): 1.1210075573669736, ('biscuits', \"'frozen foods'\"): 1.183261429953015, ('biscuits', 'fruit'): 1.10157957286214, (\"'frozen foods'\", \"'baking needs'\"): 1.1180574439212987, (\"'frozen foods'\", 'biscuits'): 1.183261429953015, ('milk-cream', \"'bread and cake'\"): 1.1048781684031772, ('margarine', \"'bread and cake'\"): 1.111955968205968, ('margarine', \"'baking needs'\"): 1.1902208927030036, ('fruit', 'biscuits'): 1.10157957286214, ('fruit', 'vegetables'): 1.1643361220056092, ('vegetables', 'fruit'): 1.1643361220056092, (\"'bread and cake'\", \"'baking needs'\", 'biscuits'): 1.2856613867807014, (\"'bread and cake'\", \"'baking needs'\", \"'frozen foods'\"): 1.257215620957265, (\"'bread and cake'\", \"'baking needs'\", 'milk-cream'): 1.236603450996893, (\"'bread and cake'\", \"'baking needs'\", 'fruit'): 1.2145758674088059, (\"'bread and cake'\", \"'baking needs'\", 'vegetables'): 1.2320766552467033, (\"'bread and cake'\", 'biscuits', \"'baking needs'\"): 1.2856613867807014, (\"'bread and cake'\", 'biscuits', \"'frozen foods'\"): 1.3716216980991203, (\"'bread and cake'\", 'biscuits', 'milk-cream'): 1.2470213971722903, (\"'bread and cake'\", 'biscuits', 'fruit'): 1.2839988134261602, (\"'bread and cake'\", 'biscuits', 'vegetables'): 1.2394231366717448, (\"'bread and cake'\", \"'frozen foods'\", \"'baking needs'\"): 1.257215620957265, (\"'bread and cake'\", \"'frozen foods'\", 'biscuits'): 1.3716216980991203, (\"'bread and cake'\", \"'frozen foods'\", 'milk-cream'): 1.2205757640903863, (\"'bread and cake'\", \"'frozen foods'\", 'fruit'): 1.2366620375646997, (\"'bread and cake'\", \"'frozen foods'\", 'vegetables'): 1.2370796876955894, (\"'bread and cake'\", 'milk-cream', \"'baking needs'\"): 1.236603450996893, (\"'bread and cake'\", 'milk-cream', 'biscuits'): 1.2470213971722903, (\"'bread and cake'\", 'milk-cream', \"'frozen foods'\"): 1.2205757640903863, (\"'bread and cake'\", 'milk-cream', 'fruit'): 1.2436902005750385, (\"'bread and cake'\", 'milk-cream', 'vegetables'): 1.2249018716519848, (\"'bread and cake'\", 'fruit', \"'baking needs'\"): 1.2145758674088059, (\"'bread and cake'\", 'fruit', 'biscuits'): 1.2839988134261602, (\"'bread and cake'\", 'fruit', \"'frozen foods'\"): 1.2366620375646995, (\"'bread and cake'\", 'fruit', 'milk-cream'): 1.2436902005750385, (\"'bread and cake'\", 'fruit', 'vegetables'): 1.3128856146505232, (\"'bread and cake'\", 'vegetables', \"'baking needs'\"): 1.2320766552467028, (\"'bread and cake'\", 'vegetables', 'biscuits'): 1.2394231366717448, (\"'bread and cake'\", 'vegetables', \"'frozen foods'\"): 1.2370796876955892, (\"'bread and cake'\", 'vegetables', 'milk-cream'): 1.2249018716519846, (\"'bread and cake'\", 'vegetables', 'fruit'): 1.3128856146505232, (\"'baking needs'\", \"'bread and cake'\", 'biscuits'): 1.2856613867807014, (\"'baking needs'\", \"'bread and cake'\", \"'frozen foods'\"): 1.257215620957265, (\"'baking needs'\", \"'bread and cake'\", 'milk-cream'): 1.236603450996893, (\"'baking needs'\", \"'bread and cake'\", 'fruit'): 1.2145758674088059, (\"'baking needs'\", \"'bread and cake'\", 'vegetables'): 1.2320766552467033, (\"'baking needs'\", 'biscuits', \"'bread and cake'\"): 1.2856613867807014, (\"'baking needs'\", \"'frozen foods'\", \"'bread and cake'\"): 1.257215620957265, (\"'baking needs'\", 'milk-cream', \"'bread and cake'\"): 1.236603450996893, (\"'baking needs'\", 'milk-cream', 'vegetables'): 1.2252322754057938, (\"'baking needs'\", 'fruit', \"'bread and cake'\"): 1.2145758674088059, (\"'baking needs'\", 'fruit', 'vegetables'): 1.300434321301342, (\"'baking needs'\", 'vegetables', \"'bread and cake'\"): 1.2320766552467028, (\"'baking needs'\", 'vegetables', 'milk-cream'): 1.2252322754057938, (\"'baking needs'\", 'vegetables', 'fruit'): 1.3004343213013418, ('biscuits', \"'bread and cake'\", \"'baking needs'\"): 1.2856613867807014, ('biscuits', \"'bread and cake'\", \"'frozen foods'\"): 1.3716216980991203, ('biscuits', \"'bread and cake'\", 'milk-cream'): 1.2470213971722903, ('biscuits', \"'bread and cake'\", 'fruit'): 1.2839988134261602, ('biscuits', \"'bread and cake'\", 'vegetables'): 1.2394231366717448, ('biscuits', \"'baking needs'\", \"'bread and cake'\"): 1.2856613867807014, ('biscuits', \"'frozen foods'\", \"'bread and cake'\"): 1.3716216980991203, ('biscuits', 'milk-cream', \"'bread and cake'\"): 1.2470213971722903, ('biscuits', 'fruit', \"'bread and cake'\"): 1.2839988134261604, ('biscuits', 'fruit', 'vegetables'): 1.3156334823805282, ('biscuits', 'vegetables', \"'bread and cake'\"): 1.2394231366717448, ('biscuits', 'vegetables', 'fruit'): 1.3156334823805282, (\"'frozen foods'\", \"'bread and cake'\", \"'baking needs'\"): 1.257215620957265, (\"'frozen foods'\", \"'bread and cake'\", 'biscuits'): 1.3716216980991203, (\"'frozen foods'\", \"'bread and cake'\", 'milk-cream'): 1.2205757640903863, (\"'frozen foods'\", \"'bread and cake'\", 'fruit'): 1.2366620375646997, (\"'frozen foods'\", \"'bread and cake'\", 'vegetables'): 1.2370796876955894, (\"'frozen foods'\", \"'baking needs'\", \"'bread and cake'\"): 1.257215620957265, (\"'frozen foods'\", 'biscuits', \"'bread and cake'\"): 1.3716216980991203, (\"'frozen foods'\", 'milk-cream', \"'bread and cake'\"): 1.220575764090386, (\"'frozen foods'\", 'fruit', \"'bread and cake'\"): 1.2366620375646995, (\"'frozen foods'\", 'fruit', 'vegetables'): 1.3036268940163211, (\"'frozen foods'\", 'vegetables', \"'bread and cake'\"): 1.2370796876955894, (\"'frozen foods'\", 'vegetables', 'fruit'): 1.3036268940163211, ('milk-cream', \"'bread and cake'\", \"'baking needs'\"): 1.236603450996893, ('milk-cream', \"'bread and cake'\", 'biscuits'): 1.2470213971722903, ('milk-cream', \"'bread and cake'\", \"'frozen foods'\"): 1.2205757640903863, ('milk-cream', \"'bread and cake'\", 'fruit'): 1.2436902005750385, ('milk-cream', \"'bread and cake'\", 'vegetables'): 1.2249018716519848, ('milk-cream', \"'baking needs'\", \"'bread and cake'\"): 1.236603450996893, ('milk-cream', \"'baking needs'\", 'vegetables'): 1.2252322754057938, ('milk-cream', 'biscuits', \"'bread and cake'\"): 1.2470213971722903, ('milk-cream', \"'frozen foods'\", \"'bread and cake'\"): 1.220575764090386, ('milk-cream', 'fruit', \"'bread and cake'\"): 1.243690200575038, ('milk-cream', 'fruit', 'vegetables'): 1.304824601448737, ('milk-cream', 'vegetables', \"'bread and cake'\"): 1.2249018716519848, ('milk-cream', 'vegetables', \"'baking needs'\"): 1.225232275405794, ('milk-cream', 'vegetables', 'fruit'): 1.304824601448737, ('fruit', \"'bread and cake'\", \"'baking needs'\"): 1.2145758674088059, ('fruit', \"'bread and cake'\", 'biscuits'): 1.2839988134261602, ('fruit', \"'bread and cake'\", \"'frozen foods'\"): 1.2366620375646995, ('fruit', \"'bread and cake'\", 'milk-cream'): 1.2436902005750385, ('fruit', \"'bread and cake'\", 'vegetables'): 1.3128856146505232, ('fruit', \"'baking needs'\", \"'bread and cake'\"): 1.2145758674088059, ('fruit', \"'baking needs'\", 'vegetables'): 1.300434321301342, ('fruit', 'biscuits', \"'bread and cake'\"): 1.2839988134261604, ('fruit', 'biscuits', 'vegetables'): 1.3156334823805282, ('fruit', \"'frozen foods'\", \"'bread and cake'\"): 1.2366620375646995, ('fruit', \"'frozen foods'\", 'vegetables'): 1.3036268940163211, ('fruit', 'milk-cream', \"'bread and cake'\"): 1.243690200575038, ('fruit', 'milk-cream', 'vegetables'): 1.304824601448737, ('fruit', 'vegetables', \"'bread and cake'\"): 1.3128856146505232, ('fruit', 'vegetables', \"'baking needs'\"): 1.3004343213013418, ('fruit', 'vegetables', 'biscuits'): 1.315633482380528, ('fruit', 'vegetables', \"'frozen foods'\"): 1.3036268940163211, ('fruit', 'vegetables', 'milk-cream'): 1.304824601448737, ('vegetables', \"'bread and cake'\", \"'baking needs'\"): 1.2320766552467028, ('vegetables', \"'bread and cake'\", 'biscuits'): 1.2394231366717448, ('vegetables', \"'bread and cake'\", \"'frozen foods'\"): 1.2370796876955892, ('vegetables', \"'bread and cake'\", 'milk-cream'): 1.2249018716519846, ('vegetables', \"'bread and cake'\", 'fruit'): 1.3128856146505232, ('vegetables', \"'baking needs'\", \"'bread and cake'\"): 1.2320766552467028, ('vegetables', \"'baking needs'\", 'milk-cream'): 1.2252322754057938, ('vegetables', \"'baking needs'\", 'fruit'): 1.3004343213013418, ('vegetables', 'biscuits', \"'bread and cake'\"): 1.2394231366717448, ('vegetables', 'biscuits', 'fruit'): 1.3156334823805282, ('vegetables', \"'frozen foods'\", \"'bread and cake'\"): 1.2370796876955894, ('vegetables', \"'frozen foods'\", 'fruit'): 1.3036268940163211, ('vegetables', 'milk-cream', \"'bread and cake'\"): 1.2249018716519848, ('vegetables', 'milk-cream', \"'baking needs'\"): 1.225232275405794, ('vegetables', 'milk-cream', 'fruit'): 1.304824601448737, ('vegetables', 'fruit', \"'bread and cake'\"): 1.3128856146505232, ('vegetables', 'fruit', \"'baking needs'\"): 1.3004343213013418, ('vegetables', 'fruit', 'biscuits'): 1.315633482380528, ('vegetables', 'fruit', \"'frozen foods'\"): 1.3036268940163211, ('vegetables', 'fruit', 'milk-cream'): 1.304824601448737, (\"'bread and cake'\", \"'baking needs'\", 'milk-cream', 'fruit'): 1.4194497813597569, (\"'bread and cake'\", \"'baking needs'\", 'milk-cream', 'vegetables'): 1.4297133435322715, (\"'bread and cake'\", \"'baking needs'\", 'fruit', 'milk-cream'): 1.4194497813597569, (\"'bread and cake'\", \"'baking needs'\", 'fruit', 'vegetables'): 1.5229747989460132, (\"'bread and cake'\", \"'baking needs'\", 'vegetables', 'milk-cream'): 1.4297133435322715, (\"'bread and cake'\", \"'baking needs'\", 'vegetables', 'fruit'): 1.5229747989460132, (\"'bread and cake'\", 'biscuits', 'fruit', 'vegetables'): 1.583276080682657, (\"'bread and cake'\", 'biscuits', 'vegetables', 'fruit'): 1.583276080682657, (\"'bread and cake'\", \"'frozen foods'\", 'fruit', 'vegetables'): 1.5504678341659348, (\"'bread and cake'\", \"'frozen foods'\", 'vegetables', 'fruit'): 1.5504678341659348, (\"'bread and cake'\", 'milk-cream', \"'baking needs'\", 'fruit'): 1.4194497813597569, (\"'bread and cake'\", 'milk-cream', \"'baking needs'\", 'vegetables'): 1.4297133435322715, (\"'bread and cake'\", 'milk-cream', 'fruit', \"'baking needs'\"): 1.4194497813597566, (\"'bread and cake'\", 'milk-cream', 'fruit', 'vegetables'): 1.5129825148982659, (\"'bread and cake'\", 'milk-cream', 'vegetables', \"'baking needs'\"): 1.4297133435322715, (\"'bread and cake'\", 'milk-cream', 'vegetables', 'fruit'): 1.5129825148982659, (\"'bread and cake'\", 'fruit', \"'baking needs'\", 'milk-cream'): 1.4194497813597569, (\"'bread and cake'\", 'fruit', \"'baking needs'\", 'vegetables'): 1.5229747989460132, (\"'bread and cake'\", 'fruit', 'biscuits', 'vegetables'): 1.583276080682657, (\"'bread and cake'\", 'fruit', \"'frozen foods'\", 'vegetables'): 1.5504678341659346, (\"'bread and cake'\", 'fruit', 'milk-cream', \"'baking needs'\"): 1.4194497813597566, (\"'bread and cake'\", 'fruit', 'milk-cream', 'vegetables'): 1.5129825148982659, (\"'bread and cake'\", 'fruit', 'vegetables', \"'baking needs'\"): 1.522974798946013, (\"'bread and cake'\", 'fruit', 'vegetables', 'biscuits'): 1.583276080682657, (\"'bread and cake'\", 'fruit', 'vegetables', \"'frozen foods'\"): 1.5504678341659348, (\"'bread and cake'\", 'fruit', 'vegetables', 'milk-cream'): 1.5129825148982656, (\"'bread and cake'\", 'vegetables', \"'baking needs'\", 'milk-cream'): 1.4297133435322713, (\"'bread and cake'\", 'vegetables', \"'baking needs'\", 'fruit'): 1.522974798946013, (\"'bread and cake'\", 'vegetables', 'biscuits', 'fruit'): 1.583276080682657, (\"'bread and cake'\", 'vegetables', \"'frozen foods'\", 'fruit'): 1.5504678341659346, (\"'bread and cake'\", 'vegetables', 'milk-cream', \"'baking needs'\"): 1.4297133435322713, (\"'bread and cake'\", 'vegetables', 'milk-cream', 'fruit'): 1.5129825148982656, (\"'bread and cake'\", 'vegetables', 'fruit', \"'baking needs'\"): 1.522974798946013, (\"'bread and cake'\", 'vegetables', 'fruit', 'biscuits'): 1.583276080682657, (\"'bread and cake'\", 'vegetables', 'fruit', \"'frozen foods'\"): 1.5504678341659348, (\"'bread and cake'\", 'vegetables', 'fruit', 'milk-cream'): 1.5129825148982656, (\"'baking needs'\", \"'bread and cake'\", 'milk-cream', 'fruit'): 1.4194497813597569, (\"'baking needs'\", \"'bread and cake'\", 'milk-cream', 'vegetables'): 1.4297133435322715, (\"'baking needs'\", \"'bread and cake'\", 'fruit', 'milk-cream'): 1.4194497813597569, (\"'baking needs'\", \"'bread and cake'\", 'fruit', 'vegetables'): 1.5229747989460132, (\"'baking needs'\", \"'bread and cake'\", 'vegetables', 'milk-cream'): 1.4297133435322715, (\"'baking needs'\", \"'bread and cake'\", 'vegetables', 'fruit'): 1.5229747989460132, (\"'baking needs'\", 'milk-cream', \"'bread and cake'\", 'fruit'): 1.4194497813597569, (\"'baking needs'\", 'milk-cream', \"'bread and cake'\", 'vegetables'): 1.4297133435322715, (\"'baking needs'\", 'milk-cream', 'vegetables', \"'bread and cake'\"): 1.4297133435322713, (\"'baking needs'\", 'fruit', \"'bread and cake'\", 'milk-cream'): 1.4194497813597569, (\"'baking needs'\", 'fruit', \"'bread and cake'\", 'vegetables'): 1.5229747989460132, (\"'baking needs'\", 'fruit', 'vegetables', \"'bread and cake'\"): 1.522974798946013, (\"'baking needs'\", 'vegetables', \"'bread and cake'\", 'milk-cream'): 1.4297133435322713, (\"'baking needs'\", 'vegetables', \"'bread and cake'\", 'fruit'): 1.522974798946013, (\"'baking needs'\", 'vegetables', 'milk-cream', \"'bread and cake'\"): 1.4297133435322713, (\"'baking needs'\", 'vegetables', 'fruit', \"'bread and cake'\"): 1.522974798946013, ('biscuits', \"'bread and cake'\", 'fruit', 'vegetables'): 1.583276080682657, ('biscuits', \"'bread and cake'\", 'vegetables', 'fruit'): 1.583276080682657, ('biscuits', 'fruit', \"'bread and cake'\", 'vegetables'): 1.5832760806826571, ('biscuits', 'fruit', 'vegetables', \"'bread and cake'\"): 1.5832760806826571, ('biscuits', 'vegetables', \"'bread and cake'\", 'fruit'): 1.583276080682657, ('biscuits', 'vegetables', 'fruit', \"'bread and cake'\"): 1.5832760806826571, (\"'frozen foods'\", \"'bread and cake'\", 'fruit', 'vegetables'): 1.5504678341659348, (\"'frozen foods'\", \"'bread and cake'\", 'vegetables', 'fruit'): 1.5504678341659348, (\"'frozen foods'\", 'fruit', \"'bread and cake'\", 'vegetables'): 1.5504678341659346, (\"'frozen foods'\", 'fruit', 'vegetables', \"'bread and cake'\"): 1.5504678341659348, (\"'frozen foods'\", 'vegetables', \"'bread and cake'\", 'fruit'): 1.5504678341659348, (\"'frozen foods'\", 'vegetables', 'fruit', \"'bread and cake'\"): 1.5504678341659348, ('milk-cream', \"'bread and cake'\", \"'baking needs'\", 'fruit'): 1.4194497813597569, ('milk-cream', \"'bread and cake'\", \"'baking needs'\", 'vegetables'): 1.4297133435322715, ('milk-cream', \"'bread and cake'\", 'fruit', \"'baking needs'\"): 1.4194497813597566, ('milk-cream', \"'bread and cake'\", 'fruit', 'vegetables'): 1.5129825148982659, ('milk-cream', \"'bread and cake'\", 'vegetables', \"'baking needs'\"): 1.4297133435322715, ('milk-cream', \"'bread and cake'\", 'vegetables', 'fruit'): 1.5129825148982659, ('milk-cream', \"'baking needs'\", \"'bread and cake'\", 'fruit'): 1.4194497813597569, ('milk-cream', \"'baking needs'\", \"'bread and cake'\", 'vegetables'): 1.4297133435322715, ('milk-cream', \"'baking needs'\", 'vegetables', \"'bread and cake'\"): 1.4297133435322713, ('milk-cream', 'fruit', \"'bread and cake'\", \"'baking needs'\"): 1.4194497813597564, ('milk-cream', 'fruit', \"'bread and cake'\", 'vegetables'): 1.5129825148982656, ('milk-cream', 'fruit', 'vegetables', \"'bread and cake'\"): 1.5129825148982656, ('milk-cream', 'vegetables', \"'bread and cake'\", \"'baking needs'\"): 1.4297133435322715, ('milk-cream', 'vegetables', \"'bread and cake'\", 'fruit'): 1.5129825148982659, ('milk-cream', 'vegetables', \"'baking needs'\", \"'bread and cake'\"): 1.4297133435322715, ('milk-cream', 'vegetables', 'fruit', \"'bread and cake'\"): 1.5129825148982656, ('fruit', \"'bread and cake'\", \"'baking needs'\", 'milk-cream'): 1.4194497813597569, ('fruit', \"'bread and cake'\", \"'baking needs'\", 'vegetables'): 1.5229747989460132, ('fruit', \"'bread and cake'\", 'biscuits', 'vegetables'): 1.583276080682657, ('fruit', \"'bread and cake'\", \"'frozen foods'\", 'vegetables'): 1.5504678341659346, ('fruit', \"'bread and cake'\", 'milk-cream', \"'baking needs'\"): 1.4194497813597566, ('fruit', \"'bread and cake'\", 'milk-cream', 'vegetables'): 1.5129825148982659, ('fruit', \"'bread and cake'\", 'vegetables', \"'baking needs'\"): 1.522974798946013, ('fruit', \"'bread and cake'\", 'vegetables', 'biscuits'): 1.583276080682657, ('fruit', \"'bread and cake'\", 'vegetables', \"'frozen foods'\"): 1.5504678341659348, ('fruit', \"'bread and cake'\", 'vegetables', 'milk-cream'): 1.5129825148982656, ('fruit', \"'baking needs'\", \"'bread and cake'\", 'milk-cream'): 1.4194497813597569, ('fruit', \"'baking needs'\", \"'bread and cake'\", 'vegetables'): 1.5229747989460132, ('fruit', \"'baking needs'\", 'vegetables', \"'bread and cake'\"): 1.522974798946013, ('fruit', 'biscuits', \"'bread and cake'\", 'vegetables'): 1.5832760806826571, ('fruit', 'biscuits', 'vegetables', \"'bread and cake'\"): 1.5832760806826571, ('fruit', \"'frozen foods'\", \"'bread and cake'\", 'vegetables'): 1.5504678341659346, ('fruit', \"'frozen foods'\", 'vegetables', \"'bread and cake'\"): 1.5504678341659348, ('fruit', 'milk-cream', \"'bread and cake'\", \"'baking needs'\"): 1.4194497813597564, ('fruit', 'milk-cream', \"'bread and cake'\", 'vegetables'): 1.5129825148982656, ('fruit', 'milk-cream', 'vegetables', \"'bread and cake'\"): 1.5129825148982656, ('fruit', 'vegetables', \"'bread and cake'\", \"'baking needs'\"): 1.522974798946013, ('fruit', 'vegetables', \"'bread and cake'\", 'biscuits'): 1.583276080682657, ('fruit', 'vegetables', \"'bread and cake'\", \"'frozen foods'\"): 1.5504678341659348, ('fruit', 'vegetables', \"'bread and cake'\", 'milk-cream'): 1.5129825148982656, ('fruit', 'vegetables', \"'baking needs'\", \"'bread and cake'\"): 1.522974798946013, ('fruit', 'vegetables', 'biscuits', \"'bread and cake'\"): 1.583276080682657, ('fruit', 'vegetables', \"'frozen foods'\", \"'bread and cake'\"): 1.5504678341659348, ('fruit', 'vegetables', 'milk-cream', \"'bread and cake'\"): 1.5129825148982656, ('vegetables', \"'bread and cake'\", \"'baking needs'\", 'milk-cream'): 1.4297133435322713, ('vegetables', \"'bread and cake'\", \"'baking needs'\", 'fruit'): 1.522974798946013, ('vegetables', \"'bread and cake'\", 'biscuits', 'fruit'): 1.583276080682657, ('vegetables', \"'bread and cake'\", \"'frozen foods'\", 'fruit'): 1.5504678341659346, ('vegetables', \"'bread and cake'\", 'milk-cream', \"'baking needs'\"): 1.4297133435322713, ('vegetables', \"'bread and cake'\", 'milk-cream', 'fruit'): 1.5129825148982656, ('vegetables', \"'bread and cake'\", 'fruit', \"'baking needs'\"): 1.522974798946013, ('vegetables', \"'bread and cake'\", 'fruit', 'biscuits'): 1.583276080682657, ('vegetables', \"'bread and cake'\", 'fruit', \"'frozen foods'\"): 1.5504678341659348, ('vegetables', \"'bread and cake'\", 'fruit', 'milk-cream'): 1.5129825148982656, ('vegetables', \"'baking needs'\", \"'bread and cake'\", 'milk-cream'): 1.4297133435322713, ('vegetables', \"'baking needs'\", \"'bread and cake'\", 'fruit'): 1.522974798946013, ('vegetables', \"'baking needs'\", 'milk-cream', \"'bread and cake'\"): 1.4297133435322713, ('vegetables', \"'baking needs'\", 'fruit', \"'bread and cake'\"): 1.522974798946013, ('vegetables', 'biscuits', \"'bread and cake'\", 'fruit'): 1.583276080682657, ('vegetables', 'biscuits', 'fruit', \"'bread and cake'\"): 1.5832760806826571, ('vegetables', \"'frozen foods'\", \"'bread and cake'\", 'fruit'): 1.5504678341659348, ('vegetables', \"'frozen foods'\", 'fruit', \"'bread and cake'\"): 1.5504678341659348, ('vegetables', 'milk-cream', \"'bread and cake'\", \"'baking needs'\"): 1.4297133435322715, ('vegetables', 'milk-cream', \"'bread and cake'\", 'fruit'): 1.5129825148982659, ('vegetables', 'milk-cream', \"'baking needs'\", \"'bread and cake'\"): 1.4297133435322715, ('vegetables', 'milk-cream', 'fruit', \"'bread and cake'\"): 1.5129825148982656, ('vegetables', 'fruit', \"'bread and cake'\", \"'baking needs'\"): 1.522974798946013, ('vegetables', 'fruit', \"'bread and cake'\", 'biscuits'): 1.583276080682657, ('vegetables', 'fruit', \"'bread and cake'\", \"'frozen foods'\"): 1.5504678341659348, ('vegetables', 'fruit', \"'bread and cake'\", 'milk-cream'): 1.5129825148982656, ('vegetables', 'fruit', \"'baking needs'\", \"'bread and cake'\"): 1.522974798946013, ('vegetables', 'fruit', 'biscuits', \"'bread and cake'\"): 1.583276080682657, ('vegetables', 'fruit', \"'frozen foods'\", \"'bread and cake'\"): 1.5504678341659348, ('vegetables', 'fruit', 'milk-cream', \"'bread and cake'\"): 1.5129825148982656}\n"
          ]
        }
      ]
    },
    {
      "cell_type": "markdown",
      "source": [
        "#CONVICÇÕES"
      ],
      "metadata": {
        "id": "3Td2v6ym6HZ6"
      }
    },
    {
      "cell_type": "markdown",
      "source": [
        "##CONVICÇÃO 2 COLUNAS"
      ],
      "metadata": {
        "id": "kNz5Tjbh8vZI"
      }
    },
    {
      "cell_type": "code",
      "source": [
        "conviccao = {}\n",
        "\n",
        "for coluna1 in lista_suporte1:\n",
        "  for coluna2 in lista_suporte1:\n",
        "    if (coluna1, coluna2) in confianca and (coluna2) in suporte1:\n",
        "      conf_colunas = confianca[(coluna1), (coluna2)]\n",
        "      suporte_coluna = suporte1[coluna2]\n",
        "\n",
        "      numerador = 1 - suporte_coluna\n",
        "      denominador = 1 - conf_colunas\n",
        "\n",
        "      if denominador != 0:\n",
        "        conv = numerador / denominador\n",
        "\n",
        "        if conv >= conv2_min:\n",
        "          conviccao[(coluna1), (coluna2)] = conv\n",
        "\n",
        "print(\"Convicção: \", conviccao)"
      ],
      "metadata": {
        "id": "vmZKS7kPQj_x",
        "colab": {
          "base_uri": "https://localhost:8080/"
        },
        "outputId": "069d6083-a789-4b7d-cd26-fc0bd6d5aef9"
      },
      "execution_count": null,
      "outputs": [
        {
          "output_type": "stream",
          "name": "stdout",
          "text": [
            "Convicção:  {(\"'bread and cake'\", 'milk-cream'): 1.2233984552772805, (\"'baking needs'\", \"'bread and cake'\"): 1.297135514694201, (\"'baking needs'\", \"'frozen foods'\"): 1.2018338916504578, ('biscuits', \"'bread and cake'\"): 1.3988711105149103, ('biscuits', \"'baking needs'\"): 1.2264157004317577, ('biscuits', \"'frozen foods'\"): 1.3526158329629345, ('biscuits', 'fruit'): 1.220565937702615, ('sauces-gravy-pkle', \"'bread and cake'\"): 1.2565478372978582, (\"'frozen foods'\", \"'bread and cake'\"): 1.2952475781754242, (\"'frozen foods'\", \"'baking needs'\"): 1.219683147374648, (\"'frozen foods'\", 'biscuits'): 1.3090734147800802, (\"'party snack foods'\", \"'bread and cake'\"): 1.2511975767753325, (\"'tissues-paper prd'\", \"'bread and cake'\"): 1.3372809003921875, ('milk-cream', \"'bread and cake'\"): 1.368496123073654, ('margarine', \"'bread and cake'\"): 1.4033962012523766, ('margarine', \"'baking needs'\"): 1.4088703098756667, ('fruit', \"'bread and cake'\"): 1.3034251555354401, ('fruit', 'vegetables'): 1.4125817795633748, ('vegetables', \"'bread and cake'\"): 1.2518876513714987, ('vegetables', 'fruit'): 1.4131289702524508}\n"
          ]
        }
      ]
    },
    {
      "cell_type": "markdown",
      "source": [
        "##CONVICÇÃO 3 COLUNAS"
      ],
      "metadata": {
        "id": "y0nNb5AxfMEC"
      }
    },
    {
      "cell_type": "code",
      "source": [
        "\n",
        "for coluna1 in lista_suporte1:\n",
        "  for coluna2 in lista_suporte1:\n",
        "    for coluna3 in lista_suporte1:\n",
        "      if (coluna1, coluna2, coluna3) in confianca and (coluna2, coluna3) in suporte2:\n",
        "        conf_colunas = confianca[(coluna1), (coluna2), (coluna3)]\n",
        "        suporte_coluna = suporte2[(coluna2), (coluna3)]\n",
        "\n",
        "        numerador = 1 - suporte_coluna\n",
        "        denominador = 1 - conf_colunas\n",
        "\n",
        "        if denominador != 0:\n",
        "          conv = numerador / denominador\n",
        "\n",
        "          if conv >= conv3_min:\n",
        "            conviccao[(coluna1), (coluna2), (coluna3)] = conv\n",
        "\n",
        "print(\"Convicção: \", conviccao)"
      ],
      "metadata": {
        "colab": {
          "base_uri": "https://localhost:8080/"
        },
        "id": "8J5dq0X9fOmy",
        "outputId": "783e0b19-6959-4275-a43b-805427862d67"
      },
      "execution_count": null,
      "outputs": [
        {
          "output_type": "stream",
          "name": "stdout",
          "text": [
            "Convicção:  {(\"'bread and cake'\", 'milk-cream'): 1.2233984552772805, (\"'baking needs'\", \"'bread and cake'\"): 1.297135514694201, (\"'baking needs'\", \"'frozen foods'\"): 1.2018338916504578, ('biscuits', \"'bread and cake'\"): 1.3988711105149103, ('biscuits', \"'baking needs'\"): 1.2264157004317577, ('biscuits', \"'frozen foods'\"): 1.3526158329629345, ('biscuits', 'fruit'): 1.220565937702615, ('sauces-gravy-pkle', \"'bread and cake'\"): 1.2565478372978582, (\"'frozen foods'\", \"'bread and cake'\"): 1.2952475781754242, (\"'frozen foods'\", \"'baking needs'\"): 1.219683147374648, (\"'frozen foods'\", 'biscuits'): 1.3090734147800802, (\"'party snack foods'\", \"'bread and cake'\"): 1.2511975767753325, (\"'tissues-paper prd'\", \"'bread and cake'\"): 1.3372809003921875, ('milk-cream', \"'bread and cake'\"): 1.368496123073654, ('margarine', \"'bread and cake'\"): 1.4033962012523766, ('margarine', \"'baking needs'\"): 1.4088703098756667, ('fruit', \"'bread and cake'\"): 1.3034251555354401, ('fruit', 'vegetables'): 1.4125817795633748, ('vegetables', \"'bread and cake'\"): 1.2518876513714987, ('vegetables', 'fruit'): 1.4131289702524508, ('biscuits', \"'bread and cake'\", \"'frozen foods'\"): 1.2843593243153897, ('biscuits', \"'bread and cake'\", 'fruit'): 1.218069081283282, ('biscuits', \"'frozen foods'\", \"'bread and cake'\"): 1.2843593243153897, ('biscuits', 'fruit', \"'bread and cake'\"): 1.218069081283282, (\"'frozen foods'\", \"'bread and cake'\", 'biscuits'): 1.2376560690117389, (\"'frozen foods'\", 'biscuits', \"'bread and cake'\"): 1.2376560690117389, ('fruit', \"'bread and cake'\", 'vegetables'): 1.273204450836871, ('fruit', 'vegetables', \"'bread and cake'\"): 1.273204450836871, ('vegetables', \"'bread and cake'\", 'fruit'): 1.2590946118934014, ('vegetables', 'fruit', \"'bread and cake'\"): 1.2590946118934014}\n"
          ]
        }
      ]
    },
    {
      "cell_type": "markdown",
      "source": [
        "##CONVICÇÃO 4 COLUNAS"
      ],
      "metadata": {
        "id": "TPVzyB8IgwYi"
      }
    },
    {
      "cell_type": "code",
      "source": [
        "\n",
        "for coluna1 in lista_suporte1:\n",
        "  for coluna2 in lista_suporte1:\n",
        "    for coluna3 in lista_suporte1:\n",
        "      for coluna4 in lista_suporte1:\n",
        "        if (coluna1, coluna2, coluna3, coluna4) in confianca and (coluna2, coluna3, coluna4) in suporte3:\n",
        "          conf_colunas = confianca[(coluna1), (coluna2), (coluna3), (coluna4)]\n",
        "          suporte_coluna = suporte3[(coluna2), (coluna3), (coluna4)]\n",
        "\n",
        "          numerador = 1 - suporte_coluna\n",
        "          denominador = 1 - conf_colunas\n",
        "\n",
        "          if denominador != 0:\n",
        "            conv = numerador / denominador\n",
        "\n",
        "            if conv >= conv4_min:\n",
        "              conviccao[(coluna1), (coluna2), (coluna3), (coluna4)] = conv\n",
        "\n",
        "print(\"Convicção: \", conviccao)"
      ],
      "metadata": {
        "colab": {
          "base_uri": "https://localhost:8080/"
        },
        "id": "hTPHTOddgy6r",
        "outputId": "fab7a0d5-7c3c-4a70-81e9-453fa61be542"
      },
      "execution_count": null,
      "outputs": [
        {
          "output_type": "stream",
          "name": "stdout",
          "text": [
            "Convicção:  {(\"'bread and cake'\", 'milk-cream'): 1.2233984552772805, (\"'baking needs'\", \"'bread and cake'\"): 1.297135514694201, (\"'baking needs'\", \"'frozen foods'\"): 1.2018338916504578, ('biscuits', \"'bread and cake'\"): 1.3988711105149103, ('biscuits', \"'baking needs'\"): 1.2264157004317577, ('biscuits', \"'frozen foods'\"): 1.3526158329629345, ('biscuits', 'fruit'): 1.220565937702615, ('sauces-gravy-pkle', \"'bread and cake'\"): 1.2565478372978582, (\"'frozen foods'\", \"'bread and cake'\"): 1.2952475781754242, (\"'frozen foods'\", \"'baking needs'\"): 1.219683147374648, (\"'frozen foods'\", 'biscuits'): 1.3090734147800802, (\"'party snack foods'\", \"'bread and cake'\"): 1.2511975767753325, (\"'tissues-paper prd'\", \"'bread and cake'\"): 1.3372809003921875, ('milk-cream', \"'bread and cake'\"): 1.368496123073654, ('margarine', \"'bread and cake'\"): 1.4033962012523766, ('margarine', \"'baking needs'\"): 1.4088703098756667, ('fruit', \"'bread and cake'\"): 1.3034251555354401, ('fruit', 'vegetables'): 1.4125817795633748, ('vegetables', \"'bread and cake'\"): 1.2518876513714987, ('vegetables', 'fruit'): 1.4131289702524508, ('biscuits', \"'bread and cake'\", \"'frozen foods'\"): 1.2843593243153897, ('biscuits', \"'bread and cake'\", 'fruit'): 1.218069081283282, ('biscuits', \"'frozen foods'\", \"'bread and cake'\"): 1.2843593243153897, ('biscuits', 'fruit', \"'bread and cake'\"): 1.218069081283282, (\"'frozen foods'\", \"'bread and cake'\", 'biscuits'): 1.2376560690117389, (\"'frozen foods'\", 'biscuits', \"'bread and cake'\"): 1.2376560690117389, ('fruit', \"'bread and cake'\", 'vegetables'): 1.273204450836871, ('fruit', 'vegetables', \"'bread and cake'\"): 1.273204450836871, ('vegetables', \"'bread and cake'\", 'fruit'): 1.2590946118934014, ('vegetables', 'fruit', \"'bread and cake'\"): 1.2590946118934014}\n"
          ]
        }
      ]
    },
    {
      "cell_type": "markdown",
      "source": [
        "#REGRAS FORTES"
      ],
      "metadata": {
        "id": "nsS7SeGIY8XT"
      }
    },
    {
      "cell_type": "code",
      "source": [
        "regras = set()\n",
        "\n",
        "cont = 1\n",
        "\n",
        "for coluna1 in lista_suporte1:\n",
        "  for coluna2 in lista_suporte1:\n",
        "    if (coluna1, coluna2) in confianca and (coluna1, coluna2) in lift and (coluna1, coluna2) in conviccao:\n",
        "          regras.add((coluna1, coluna2))\n",
        "          cont += 1\n",
        "    for coluna3 in lista_suporte1:\n",
        "      if (coluna1, coluna2, coluna3) in confianca and (coluna1, coluna2, coluna3) in lift and (coluna1, coluna2, coluna3) in conviccao:\n",
        "          regras.add((coluna1, coluna2, coluna3))\n",
        "          cont += 1\n",
        "      for coluna4 in lista_suporte1:\n",
        "        if (coluna1, coluna2, coluna3, coluna4) in confianca and (coluna1, coluna2, coluna3, coluna4) in lift and (coluna1, coluna2, coluna3, coluna4) in conviccao:\n",
        "          regras.add((coluna1, coluna2, coluna3, coluna4))\n",
        "          cont += 1\n",
        "        if cont > 1000: #LIMITAR AS REGRAS\n",
        "          break\n",
        "\n",
        "print(\"REGRAS FORTES: \", regras, cont)"
      ],
      "metadata": {
        "id": "8F-18UYwZzx6",
        "colab": {
          "base_uri": "https://localhost:8080/"
        },
        "outputId": "067c3133-9e28-42c5-ad5f-3133834aa2f3"
      },
      "execution_count": null,
      "outputs": [
        {
          "output_type": "stream",
          "name": "stdout",
          "text": [
            "'bread and cake' milk-cream\n",
            "'baking needs' 'frozen foods'\n",
            "biscuits 'bread and cake'\n",
            "biscuits 'bread and cake' 'frozen foods'\n",
            "biscuits 'bread and cake' fruit\n",
            "biscuits 'baking needs'\n",
            "biscuits 'frozen foods'\n",
            "biscuits 'frozen foods' 'bread and cake'\n",
            "biscuits fruit\n",
            "biscuits fruit 'bread and cake'\n",
            "'frozen foods' 'bread and cake' biscuits\n",
            "'frozen foods' 'baking needs'\n",
            "'frozen foods' biscuits\n",
            "'frozen foods' biscuits 'bread and cake'\n",
            "milk-cream 'bread and cake'\n",
            "margarine 'bread and cake'\n",
            "margarine 'baking needs'\n",
            "fruit 'bread and cake' vegetables\n",
            "fruit vegetables\n",
            "fruit vegetables 'bread and cake'\n",
            "vegetables 'bread and cake' fruit\n",
            "vegetables fruit\n",
            "vegetables fruit 'bread and cake'\n",
            "REGRAS FORTES:  {(\"'bread and cake'\", 'milk-cream'), ('vegetables', 'fruit'), ('margarine', \"'baking needs'\"), ('fruit', \"'bread and cake'\", 'vegetables'), ('fruit', 'vegetables'), (\"'baking needs'\", \"'frozen foods'\"), ('biscuits', \"'frozen foods'\", \"'bread and cake'\"), ('vegetables', 'fruit', \"'bread and cake'\"), ('margarine', \"'bread and cake'\"), ('biscuits', \"'baking needs'\"), (\"'frozen foods'\", \"'baking needs'\"), ('fruit', 'vegetables', \"'bread and cake'\"), ('biscuits', 'fruit', \"'bread and cake'\"), (\"'frozen foods'\", \"'bread and cake'\", 'biscuits'), ('biscuits', \"'frozen foods'\"), ('vegetables', \"'bread and cake'\", 'fruit'), ('biscuits', 'fruit'), ('biscuits', \"'bread and cake'\", \"'frozen foods'\"), ('milk-cream', \"'bread and cake'\"), ('biscuits', \"'bread and cake'\", 'fruit'), ('biscuits', \"'bread and cake'\"), (\"'frozen foods'\", 'biscuits'), (\"'frozen foods'\", 'biscuits', \"'bread and cake'\")} 24\n"
          ]
        }
      ]
    },
    {
      "cell_type": "markdown",
      "source": [
        "#CONCLUSÕES"
      ],
      "metadata": {
        "id": "yq0lUSfP6N-D"
      }
    },
    {
      "cell_type": "code",
      "source": [],
      "metadata": {
        "id": "E6NV5uJSaKZC"
      },
      "execution_count": null,
      "outputs": []
    }
  ]
}